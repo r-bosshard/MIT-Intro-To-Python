{
 "cells": [
  {
   "cell_type": "code",
   "execution_count": 1,
   "metadata": {},
   "outputs": [],
   "source": [
    "#Lecture 1"
   ]
  },
  {
   "cell_type": "code",
   "execution_count": 5,
   "metadata": {},
   "outputs": [
    {
     "name": "stdout",
     "output_type": "stream",
     "text": [
      "Number of vowels: 12\n"
     ]
    }
   ],
   "source": [
    "#Problem set 1\n",
    "\n",
    "vowel = [\"a\", \"e\", \"i\", \"o\", \"u\"]\n",
    "s = \"azcbboobeggheeeeezzzeeakl\"\n",
    "vowel_count = 0\n",
    "\n",
    "for x in vowel:\n",
    "    for b in s:\n",
    "        if x == b:            \n",
    "            vowel_count = vowel_count + 1\n",
    "\n",
    "print(\"Number of vowels: {0}\".format(vowel_count))"
   ]
  },
  {
   "cell_type": "code",
   "execution_count": 32,
   "metadata": {},
   "outputs": [
    {
     "name": "stdout",
     "output_type": "stream",
     "text": [
      "Number of times bob occurs is: 3\n"
     ]
    }
   ],
   "source": [
    "#Problem set 2\n",
    "\n",
    "bob = \"bob\"\n",
    "s = \"azcbobobobkl\"\n",
    "bob_count = 0\n",
    "char = len(s)-2\n",
    "\n",
    "for b in range(0,char):\n",
    "    if bob == s[b:b+3]:            \n",
    "        bob_count = bob_count + 1\n",
    "\n",
    "print(\"Number of times bob occurs is: {0}\".format(bob_count))"
   ]
  },
  {
   "cell_type": "code",
   "execution_count": 138,
   "metadata": {},
   "outputs": [
    {
     "name": "stdout",
     "output_type": "stream",
     "text": [
      "Longest substring in alphabetical order is: abcdefghijklmnopqrstuvwxyz\n"
     ]
    }
   ],
   "source": [
    "#Problem set 3\n",
    "\n",
    "alpha = \"abcdefghijklmnopqrstuvwxyz\"\n",
    "alpha_dict = {}\n",
    "b = 0\n",
    "substring_dict = {}\n",
    "\n",
    "for a in alpha:\n",
    "    alpha_dict[b] = a\n",
    "    b = b + 1\n",
    "\n",
    "s = 'abcdefghijklmnopqrstuvwxyz'\n",
    "e = []\n",
    "\n",
    "s = s + \"a\"\n",
    "\n",
    "for c in range (0, len(s)):\n",
    "    e = []\n",
    "    d = c\n",
    "    try:\n",
    "        while list(alpha_dict.keys())[list(alpha_dict.values()).index(s[d])] <= list(alpha_dict.keys())[list(alpha_dict.values()).index(s[d+1])]:\n",
    "            e += s[d]\n",
    "            d = d + 1\n",
    "        e += s[d]\n",
    "        substring_dict[c] = e\n",
    "    except:\n",
    "        f = 0\n",
    "\n",
    "b = 0\n",
    "z=0\n",
    "for a in substring_dict.keys():\n",
    "    c = max(len(substring_dict[a]), b)\n",
    "    if c > b:\n",
    "        z = a\n",
    "    else:\n",
    "        z = z\n",
    "    b = c\n",
    "print(\"Longest substring in alphabetical order is:\", \"\".join(substring_dict[z]))        "
   ]
  },
  {
   "cell_type": "code",
   "execution_count": null,
   "metadata": {},
   "outputs": [],
   "source": []
  }
 ],
 "metadata": {
  "kernelspec": {
   "display_name": "Python 3",
   "language": "python",
   "name": "python3"
  },
  "language_info": {
   "codemirror_mode": {
    "name": "ipython",
    "version": 3
   },
   "file_extension": ".py",
   "mimetype": "text/x-python",
   "name": "python",
   "nbconvert_exporter": "python",
   "pygments_lexer": "ipython3",
   "version": "3.6.4"
  }
 },
 "nbformat": 4,
 "nbformat_minor": 2
}
