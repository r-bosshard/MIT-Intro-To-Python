{
 "cells": [
  {
   "cell_type": "code",
   "execution_count": null,
   "metadata": {},
   "outputs": [],
   "source": [
    "#Lecture 1"
   ]
  },
  {
   "cell_type": "code",
   "execution_count": null,
   "metadata": {},
   "outputs": [],
   "source": [
    "#Problem set 1\n",
    "\n",
    "vowel = [\"a\", \"e\", \"i\", \"o\", \"u\"]\n",
    "s = \"azcbboobeggheeeeezzzeeakl\"\n",
    "vowel_count = 0\n",
    "\n",
    "for x in vowel:\n",
    "    for b in s:\n",
    "        if x == b:            \n",
    "            vowel_count = vowel_count + 1\n",
    "\n",
    "print(\"Number of vowels: {0}\".format(vowel_count))"
   ]
  },
  {
   "cell_type": "code",
   "execution_count": null,
   "metadata": {},
   "outputs": [],
   "source": [
    "#Problem set 2\n",
    "\n",
    "bob = \"bob\"\n",
    "s = \"azcbobobobkl\"\n",
    "bob_count = 0\n",
    "char = len(s)-2\n",
    "\n",
    "for b in range(0,char):\n",
    "    if bob == s[b:b+3]:            \n",
    "        bob_count = bob_count + 1\n",
    "\n",
    "print(\"Number of times bob occurs is: {0}\".format(bob_count))"
   ]
  },
  {
   "cell_type": "code",
   "execution_count": null,
   "metadata": {},
   "outputs": [],
   "source": [
    "#Problem set 3\n",
    "\n",
    "alpha = \"abcdefghijklmnopqrstuvwxyz\"\n",
    "alpha_dict = {}\n",
    "b = 0\n",
    "substring_dict = {}\n",
    "\n",
    "for a in alpha:\n",
    "    alpha_dict[b] = a\n",
    "    b = b + 1\n",
    "\n",
    "s = 'abcdefghijklmnopqrstuvwxyz'\n",
    "e = []\n",
    "\n",
    "s = s + \"a\"\n",
    "\n",
    "for c in range (0, len(s)):\n",
    "    e = []\n",
    "    d = c\n",
    "    try:\n",
    "        while list(alpha_dict.keys())[list(alpha_dict.values()).index(s[d])] <= list(alpha_dict.keys())[list(alpha_dict.values()).index(s[d+1])]:\n",
    "            e += s[d]\n",
    "            d = d + 1\n",
    "        e += s[d]\n",
    "        substring_dict[c] = e\n",
    "    except:\n",
    "        f = 0\n",
    "\n",
    "b = 0\n",
    "z=0\n",
    "for a in substring_dict.keys():\n",
    "    c = max(len(substring_dict[a]), b)\n",
    "    if c > b:\n",
    "        z = a\n",
    "    else:\n",
    "        z = z\n",
    "    b = c\n",
    "print(\"Longest substring in alphabetical order is:\", \"\".join(substring_dict[z]))        "
   ]
  },
  {
   "cell_type": "code",
   "execution_count": 24,
   "metadata": {
    "hide_input": true,
    "slideshow": {
     "slide_type": "-"
    }
   },
   "outputs": [],
   "source": [
    "def soccer_trivia():\n",
    "    \n",
    "    y = \"Y\"\n",
    "    while y == \"Y\":\n",
    "        x = input(\"How many times has Brazil won? \")\n",
    "        while x != \"10\":\n",
    "            if x == \"help\":\n",
    "                print(\"Take a look at Fifa.com\")\n",
    "            else:\n",
    "                print(\"Try again!\")\n",
    "            x = input(\"How many times has Brazil won? \")        \n",
    "        print(\"You are correct!\")\n",
    "        y = input(\"Do you want to play again (Y/N)? \")\n",
    "    print(\"Thanks for playing!\")    "
   ]
  },
  {
   "cell_type": "code",
   "execution_count": 27,
   "metadata": {},
   "outputs": [
    {
     "name": "stdout",
     "output_type": "stream",
     "text": [
      "How many times has Brazil won? 10\n",
      "You are correct!\n",
      "Do you want to play again (Y/N)? \n",
      "Thanks for playing!\n"
     ]
    }
   ],
   "source": [
    "soccer_trivia()"
   ]
  },
  {
   "cell_type": "code",
   "execution_count": 39,
   "metadata": {},
   "outputs": [],
   "source": [
    "def cube_root_iterative():\n",
    "\n",
    "    cube = int(input(\"What number do you want to know the cube root of? \"))\n",
    "    epsilon = 0.01\n",
    "    guess = 0.0\n",
    "    increment = 0.0001\n",
    "    num_guesses = 0\n",
    "    while abs(guess**3-cube)>=epsilon and guess**3<=cube+epsilon:\n",
    "        guess += increment \n",
    "        num_guesses += 1\n",
    "    print('num_guesses = ',num_guesses)\n",
    "    if abs(guess**3-cube)>=epsilon:\n",
    "        print('Failed on cube root of', cube)   \n",
    "    else:\n",
    "        print(guess, 'is close to the cube root of', cube) "
   ]
  },
  {
   "cell_type": "code",
   "execution_count": 48,
   "metadata": {
    "scrolled": true
   },
   "outputs": [
    {
     "name": "stdout",
     "output_type": "stream",
     "text": [
      "What number do you want to know the cube root of? 1728\n",
      "num_guesses =  120000\n",
      "11.999999999985372 is close to the cube root of 1728\n"
     ]
    }
   ],
   "source": [
    "cube_root_iterative()"
   ]
  },
  {
   "cell_type": "code",
   "execution_count": 57,
   "metadata": {},
   "outputs": [],
   "source": [
    "def cube_root_bisection():\n",
    "\n",
    "    cube = int(input(\"What number do you want to know the cube root of? \"))\n",
    "    epsilon = 0.01\n",
    "    guess = 0.0\n",
    "    increment = 0.0001\n",
    "    num_guesses = 0\n",
    "    low = 0\n",
    "    high = cube\n",
    "    \n",
    "    ans = (high + low)/2.0\n",
    "    \n",
    "    while abs(ans**3-cube)>=epsilon:\n",
    "        num_guesses += 1\n",
    "        if ans**3 < cube:\n",
    "            low = ans\n",
    "        else:\n",
    "            high = ans\n",
    "        ans = (high + low)/2.0\n",
    "   \n",
    "    \n",
    "    print(ans, 'is close to the cube root of', cube) \n",
    "    print('num_guesses = ',num_guesses)"
   ]
  },
  {
   "cell_type": "code",
   "execution_count": 58,
   "metadata": {},
   "outputs": [
    {
     "name": "stdout",
     "output_type": "stream",
     "text": [
      "What number do you want to know the cube root of? 1728\n",
      "12.000005722045898 is close to the cube root of 1728\n",
      "num_guesses =  24\n"
     ]
    }
   ],
   "source": [
    "cube_root_bisection()"
   ]
  },
  {
   "cell_type": "code",
   "execution_count": 98,
   "metadata": {},
   "outputs": [
    {
     "name": "stdout",
     "output_type": "stream",
     "text": [
      "Please think of a number between 0 and 100! \n",
      "Is your secret number 50?\n",
      "Enter 'h' to indicate the guess is too high. Enter 'l' to indicate the guess is too low. Enter 'c' to indicate I guessed correctly.l\n",
      "Is your secret number 75?\n",
      "Enter 'h' to indicate the guess is too high. Enter 'l' to indicate the guess is too low. Enter 'c' to indicate I guessed correctly.y\n",
      "Sorry, I did not understand your input.\n",
      "Is your secret number 75?\n",
      "Enter 'h' to indicate the guess is too high. Enter 'l' to indicate the guess is too low. Enter 'c' to indicate I guessed correctly.c\n",
      "Game over. Your secret number was: 75\n"
     ]
    }
   ],
   "source": [
    "print(\"Please think of a number between 0 and 100! \")\n",
    "\n",
    "ans = 50\n",
    "high = 100\n",
    "low = 0\n",
    "a = \"b\"\n",
    "\n",
    "while a != \"c\":\n",
    "    print(\"Is your secret number {0}?\".format(ans))   \n",
    "    a = str(input(\"Enter 'h' to indicate the guess is too high. Enter 'l' to indicate the guess is too low. Enter 'c' to indicate I guessed correctly.\"))\n",
    "\n",
    "    if a == \"h\":\n",
    "        high = ans\n",
    "    elif a == \"l\":\n",
    "        low = ans\n",
    "    elif a == \"c\":\n",
    "        break\n",
    "    else:\n",
    "        print(\"Sorry, I did not understand your input.\")\n",
    "\n",
    "    ans = int((high + low)/2)  \n",
    "        \n",
    "print(\"Game over. Your secret number was: {0}\".format(ans))  \n"
   ]
  },
  {
   "cell_type": "code",
   "execution_count": 99,
   "metadata": {},
   "outputs": [
    {
     "name": "stdout",
     "output_type": "stream",
     "text": [
      "Please think of a number between 0 and 100!\n",
      "Is your secret number 50?\n",
      "Enter 'h' to indicate the guess is too high. Enter 'l' to indicate the guess is too low. Enter 'c' to indicate I guessed correctly. l\n",
      "Is your secret number 75?\n",
      "Enter 'h' to indicate the guess is too high. Enter 'l' to indicate the guess is too low. Enter 'c' to indicate I guessed correctly. a\n",
      "Sorry, I did not understand your input.\n",
      "Is your secret number 75?\n",
      "Enter 'h' to indicate the guess is too high. Enter 'l' to indicate the guess is too low. Enter 'c' to indicate I guessed correctly. h\n",
      "Is your secret number 62?\n",
      "Enter 'h' to indicate the guess is too high. Enter 'l' to indicate the guess is too low. Enter 'c' to indicate I guessed correctly. h\n",
      "Is your secret number 56?\n",
      "Enter 'h' to indicate the guess is too high. Enter 'l' to indicate the guess is too low. Enter 'c' to indicate I guessed correctly. l\n",
      "Is your secret number 59?\n",
      "Enter 'h' to indicate the guess is too high. Enter 'l' to indicate the guess is too low. Enter 'c' to indicate I guessed correctly. c\n",
      "Game over. Your secret number was: 59\n"
     ]
    }
   ],
   "source": [
    "print(\"Please think of a number between 0 and 100!\")\n",
    "\n",
    "# At the start the highest the number could be is 100 and the lowest is 0.\n",
    "hi = 100\n",
    "lo = 0\n",
    "guessed = False\n",
    "\n",
    "# Loop until we guess it correctly\n",
    "while not guessed:\n",
    "    # Bisection search: guess the midpoint between our current high and low guesses\n",
    "    guess = (hi + lo)//2\n",
    "    print(\"Is your secret number \" + str(guess)+ \"?\")\n",
    "    user_inp = input(\"Enter 'h' to indicate the guess is too high. Enter 'l' to indicate the guess is too low. Enter 'c' to indicate I guessed correctly. \")\n",
    "\n",
    "    if user_inp == 'c':\n",
    "        # We got it right!\n",
    "        guessed = True\n",
    "    elif user_inp == 'h':\n",
    "        # Guess was too high. So make the current guess the highest possible guess.\n",
    "        hi = guess\n",
    "    elif user_inp == 'l':\n",
    "        # Guess was too low. So make the current guess the lowest possible guess.\n",
    "        lo = guess\n",
    "    else:\n",
    "        print(\"Sorry, I did not understand your input.\")\n",
    "\n",
    "print('Game over. Your secret number was: ' + str(guess))"
   ]
  },
  {
   "cell_type": "code",
   "execution_count": null,
   "metadata": {},
   "outputs": [],
   "source": []
  }
 ],
 "metadata": {
  "kernelspec": {
   "display_name": "Python 3",
   "language": "python",
   "name": "python3"
  },
  "language_info": {
   "codemirror_mode": {
    "name": "ipython",
    "version": 3
   },
   "file_extension": ".py",
   "mimetype": "text/x-python",
   "name": "python",
   "nbconvert_exporter": "python",
   "pygments_lexer": "ipython3",
   "version": "3.6.4"
  }
 },
 "nbformat": 4,
 "nbformat_minor": 2
}
