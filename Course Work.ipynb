{
 "cells": [
  {
   "cell_type": "code",
   "execution_count": null,
   "metadata": {},
   "outputs": [],
   "source": [
    "#Lecture 1"
   ]
  },
  {
   "cell_type": "code",
   "execution_count": null,
   "metadata": {},
   "outputs": [],
   "source": [
    "#Problem set 1\n",
    "\n",
    "vowel = [\"a\", \"e\", \"i\", \"o\", \"u\"]\n",
    "s = \"azcbboobeggheeeeezzzeeakl\"\n",
    "vowel_count = 0\n",
    "\n",
    "for x in vowel:\n",
    "    for b in s:\n",
    "        if x == b:            \n",
    "            vowel_count = vowel_count + 1\n",
    "\n",
    "print(\"Number of vowels: {0}\".format(vowel_count))"
   ]
  },
  {
   "cell_type": "code",
   "execution_count": null,
   "metadata": {},
   "outputs": [],
   "source": [
    "#Problem set 2\n",
    "\n",
    "bob = \"bob\"\n",
    "s = \"azcbobobobkl\"\n",
    "bob_count = 0\n",
    "char = len(s)-2\n",
    "\n",
    "for b in range(0,char):\n",
    "    if bob == s[b:b+3]:            \n",
    "        bob_count = bob_count + 1\n",
    "\n",
    "print(\"Number of times bob occurs is: {0}\".format(bob_count))"
   ]
  },
  {
   "cell_type": "code",
   "execution_count": null,
   "metadata": {},
   "outputs": [],
   "source": [
    "#Problem set 3\n",
    "\n",
    "alpha = \"abcdefghijklmnopqrstuvwxyz\"\n",
    "alpha_dict = {}\n",
    "b = 0\n",
    "substring_dict = {}\n",
    "\n",
    "for a in alpha:\n",
    "    alpha_dict[b] = a\n",
    "    b = b + 1\n",
    "\n",
    "s = 'abcdefghijklmnopqrstuvwxyz'\n",
    "e = []\n",
    "\n",
    "s = s + \"a\"\n",
    "\n",
    "for c in range (0, len(s)):\n",
    "    e = []\n",
    "    d = c\n",
    "    try:\n",
    "        while list(alpha_dict.keys())[list(alpha_dict.values()).index(s[d])] <= list(alpha_dict.keys())[list(alpha_dict.values()).index(s[d+1])]:\n",
    "            e += s[d]\n",
    "            d = d + 1\n",
    "        e += s[d]\n",
    "        substring_dict[c] = e\n",
    "    except:\n",
    "        f = 0\n",
    "\n",
    "b = 0\n",
    "z=0\n",
    "for a in substring_dict.keys():\n",
    "    c = max(len(substring_dict[a]), b)\n",
    "    if c > b:\n",
    "        z = a\n",
    "    else:\n",
    "        z = z\n",
    "    b = c\n",
    "print(\"Longest substring in alphabetical order is:\", \"\".join(substring_dict[z]))        "
   ]
  },
  {
   "cell_type": "code",
   "execution_count": 24,
   "metadata": {
    "hide_input": true,
    "slideshow": {
     "slide_type": "-"
    }
   },
   "outputs": [],
   "source": [
    "def soccer_trivia():\n",
    "    \n",
    "    y = \"Y\"\n",
    "    while y == \"Y\":\n",
    "        x = input(\"How many times has Brazil won? \")\n",
    "        while x != \"10\":\n",
    "            if x == \"help\":\n",
    "                print(\"Take a look at Fifa.com\")\n",
    "            else:\n",
    "                print(\"Try again!\")\n",
    "            x = input(\"How many times has Brazil won? \")        \n",
    "        print(\"You are correct!\")\n",
    "        y = input(\"Do you want to play again (Y/N)? \")\n",
    "    print(\"Thanks for playing!\")    "
   ]
  },
  {
   "cell_type": "code",
   "execution_count": 27,
   "metadata": {},
   "outputs": [
    {
     "name": "stdout",
     "output_type": "stream",
     "text": [
      "How many times has Brazil won? 10\n",
      "You are correct!\n",
      "Do you want to play again (Y/N)? \n",
      "Thanks for playing!\n"
     ]
    }
   ],
   "source": [
    "soccer_trivia()"
   ]
  },
  {
   "cell_type": "code",
   "execution_count": 39,
   "metadata": {},
   "outputs": [],
   "source": [
    "def cube_root_iterative():\n",
    "\n",
    "    cube = int(input(\"What number do you want to know the cube root of? \"))\n",
    "    epsilon = 0.01\n",
    "    guess = 0.0\n",
    "    increment = 0.0001\n",
    "    num_guesses = 0\n",
    "    while abs(guess**3-cube)>=epsilon and guess**3<=cube+epsilon:\n",
    "        guess += increment \n",
    "        num_guesses += 1\n",
    "    print('num_guesses = ',num_guesses)\n",
    "    if abs(guess**3-cube)>=epsilon:\n",
    "        print('Failed on cube root of', cube)   \n",
    "    else:\n",
    "        print(guess, 'is close to the cube root of', cube) "
   ]
  },
  {
   "cell_type": "code",
   "execution_count": 48,
   "metadata": {
    "scrolled": true
   },
   "outputs": [
    {
     "name": "stdout",
     "output_type": "stream",
     "text": [
      "What number do you want to know the cube root of? 1728\n",
      "num_guesses =  120000\n",
      "11.999999999985372 is close to the cube root of 1728\n"
     ]
    }
   ],
   "source": [
    "cube_root_iterative()"
   ]
  },
  {
   "cell_type": "code",
   "execution_count": 57,
   "metadata": {},
   "outputs": [],
   "source": [
    "def cube_root_bisection():\n",
    "\n",
    "    cube = int(input(\"What number do you want to know the cube root of? \"))\n",
    "    epsilon = 0.01\n",
    "    guess = 0.0\n",
    "    increment = 0.0001\n",
    "    num_guesses = 0\n",
    "    low = 0\n",
    "    high = cube\n",
    "    \n",
    "    ans = (high + low)/2.0\n",
    "    \n",
    "    while abs(ans**3-cube)>=epsilon:\n",
    "        num_guesses += 1\n",
    "        if ans**3 < cube:\n",
    "            low = ans\n",
    "        else:\n",
    "            high = ans\n",
    "        ans = (high + low)/2.0\n",
    "   \n",
    "    \n",
    "    print(ans, 'is close to the cube root of', cube) \n",
    "    print('num_guesses = ',num_guesses)"
   ]
  },
  {
   "cell_type": "code",
   "execution_count": 58,
   "metadata": {},
   "outputs": [
    {
     "name": "stdout",
     "output_type": "stream",
     "text": [
      "What number do you want to know the cube root of? 1728\n",
      "12.000005722045898 is close to the cube root of 1728\n",
      "num_guesses =  24\n"
     ]
    }
   ],
   "source": [
    "cube_root_bisection()"
   ]
  },
  {
   "cell_type": "code",
   "execution_count": 98,
   "metadata": {},
   "outputs": [
    {
     "name": "stdout",
     "output_type": "stream",
     "text": [
      "Please think of a number between 0 and 100! \n",
      "Is your secret number 50?\n",
      "Enter 'h' to indicate the guess is too high. Enter 'l' to indicate the guess is too low. Enter 'c' to indicate I guessed correctly.l\n",
      "Is your secret number 75?\n",
      "Enter 'h' to indicate the guess is too high. Enter 'l' to indicate the guess is too low. Enter 'c' to indicate I guessed correctly.y\n",
      "Sorry, I did not understand your input.\n",
      "Is your secret number 75?\n",
      "Enter 'h' to indicate the guess is too high. Enter 'l' to indicate the guess is too low. Enter 'c' to indicate I guessed correctly.c\n",
      "Game over. Your secret number was: 75\n"
     ]
    }
   ],
   "source": [
    "print(\"Please think of a number between 0 and 100! \")\n",
    "\n",
    "ans = 50\n",
    "high = 100\n",
    "low = 0\n",
    "a = \"b\"\n",
    "\n",
    "while a != \"c\":\n",
    "    print(\"Is your secret number {0}?\".format(ans))   \n",
    "    a = str(input(\"Enter 'h' to indicate the guess is too high. Enter 'l' to indicate the guess is too low. Enter 'c' to indicate I guessed correctly.\"))\n",
    "\n",
    "    if a == \"h\":\n",
    "        high = ans\n",
    "    elif a == \"l\":\n",
    "        low = ans\n",
    "    elif a == \"c\":\n",
    "        break\n",
    "    else:\n",
    "        print(\"Sorry, I did not understand your input.\")\n",
    "\n",
    "    ans = int((high + low)/2)  \n",
    "        \n",
    "print(\"Game over. Your secret number was: {0}\".format(ans))  \n"
   ]
  },
  {
   "cell_type": "code",
   "execution_count": 99,
   "metadata": {},
   "outputs": [
    {
     "name": "stdout",
     "output_type": "stream",
     "text": [
      "Please think of a number between 0 and 100!\n",
      "Is your secret number 50?\n",
      "Enter 'h' to indicate the guess is too high. Enter 'l' to indicate the guess is too low. Enter 'c' to indicate I guessed correctly. l\n",
      "Is your secret number 75?\n",
      "Enter 'h' to indicate the guess is too high. Enter 'l' to indicate the guess is too low. Enter 'c' to indicate I guessed correctly. a\n",
      "Sorry, I did not understand your input.\n",
      "Is your secret number 75?\n",
      "Enter 'h' to indicate the guess is too high. Enter 'l' to indicate the guess is too low. Enter 'c' to indicate I guessed correctly. h\n",
      "Is your secret number 62?\n",
      "Enter 'h' to indicate the guess is too high. Enter 'l' to indicate the guess is too low. Enter 'c' to indicate I guessed correctly. h\n",
      "Is your secret number 56?\n",
      "Enter 'h' to indicate the guess is too high. Enter 'l' to indicate the guess is too low. Enter 'c' to indicate I guessed correctly. l\n",
      "Is your secret number 59?\n",
      "Enter 'h' to indicate the guess is too high. Enter 'l' to indicate the guess is too low. Enter 'c' to indicate I guessed correctly. c\n",
      "Game over. Your secret number was: 59\n"
     ]
    }
   ],
   "source": [
    "print(\"Please think of a number between 0 and 100!\")\n",
    "\n",
    "# At the start the highest the number could be is 100 and the lowest is 0.\n",
    "hi = 100\n",
    "lo = 0\n",
    "guessed = False\n",
    "\n",
    "# Loop until we guess it correctly\n",
    "while not guessed:\n",
    "    # Bisection search: guess the midpoint between our current high and low guesses\n",
    "    guess = (hi + lo)//2\n",
    "    print(\"Is your secret number \" + str(guess)+ \"?\")\n",
    "    user_inp = input(\"Enter 'h' to indicate the guess is too high. Enter 'l' to indicate the guess is too low. Enter 'c' to indicate I guessed correctly. \")\n",
    "\n",
    "    if user_inp == 'c':\n",
    "        # We got it right!\n",
    "        guessed = True\n",
    "    elif user_inp == 'h':\n",
    "        # Guess was too high. So make the current guess the highest possible guess.\n",
    "        hi = guess\n",
    "    elif user_inp == 'l':\n",
    "        # Guess was too low. So make the current guess the lowest possible guess.\n",
    "        lo = guess\n",
    "    else:\n",
    "        print(\"Sorry, I did not understand your input.\")\n",
    "\n",
    "print('Game over. Your secret number was: ' + str(guess))"
   ]
  },
  {
   "cell_type": "code",
   "execution_count": 101,
   "metadata": {},
   "outputs": [
    {
     "data": {
      "text/plain": [
       "'HELLOOOO'"
      ]
     },
     "execution_count": 101,
     "metadata": {},
     "output_type": "execute_result"
    }
   ],
   "source": [
    "a = \"helloooo\"\n",
    "a.swapcase()"
   ]
  },
  {
   "cell_type": "code",
   "execution_count": 109,
   "metadata": {},
   "outputs": [
    {
     "data": {
      "text/plain": [
       "'hell****'"
      ]
     },
     "execution_count": 109,
     "metadata": {},
     "output_type": "execute_result"
    }
   ],
   "source": [
    "a.replace(\"o\",\"*\")"
   ]
  },
  {
   "cell_type": "code",
   "execution_count": 110,
   "metadata": {},
   "outputs": [],
   "source": [
    "def mult(a,b):\n",
    "    if b == 1:\n",
    "        return a\n",
    "    else:\n",
    "        return a + mult(a,b-1)"
   ]
  },
  {
   "cell_type": "code",
   "execution_count": 112,
   "metadata": {},
   "outputs": [
    {
     "data": {
      "text/plain": [
       "15"
      ]
     },
     "execution_count": 112,
     "metadata": {},
     "output_type": "execute_result"
    }
   ],
   "source": [
    "mult(5,3)"
   ]
  },
  {
   "cell_type": "code",
   "execution_count": 114,
   "metadata": {},
   "outputs": [],
   "source": [
    "def factorial(n):\n",
    "    if n == 1:\n",
    "        return 1\n",
    "    else:\n",
    "        return n*factorial(n-1)"
   ]
  },
  {
   "cell_type": "code",
   "execution_count": 118,
   "metadata": {},
   "outputs": [
    {
     "data": {
      "text/plain": [
       "362880"
      ]
     },
     "execution_count": 118,
     "metadata": {},
     "output_type": "execute_result"
    }
   ],
   "source": [
    "factorial(9)"
   ]
  },
  {
   "cell_type": "code",
   "execution_count": 124,
   "metadata": {},
   "outputs": [],
   "source": [
    "def recurPower(base, exp):\n",
    "    '''\n",
    "    base: int or float.\n",
    "    exp: int >= 0\n",
    " \n",
    "    returns: int or float, base^exp\n",
    "    '''\n",
    "    if exp == 0:\n",
    "        return 1\n",
    "    else:\n",
    "        return base*recurPower(base, exp-1)"
   ]
  },
  {
   "cell_type": "code",
   "execution_count": 125,
   "metadata": {},
   "outputs": [
    {
     "data": {
      "text/plain": [
       "32"
      ]
     },
     "execution_count": 125,
     "metadata": {},
     "output_type": "execute_result"
    }
   ],
   "source": [
    "recurPower(2, 5)"
   ]
  },
  {
   "cell_type": "code",
   "execution_count": 128,
   "metadata": {},
   "outputs": [],
   "source": [
    "def iterPower(base, exp):\n",
    "    '''\n",
    "    base: int or float.\n",
    "    exp: int >= 0\n",
    " \n",
    "    returns: int or float, base^exp\n",
    "    '''\n",
    "    ans = 1\n",
    "    for i in range(exp):\n",
    "        ans = ans*base\n",
    "    return ans"
   ]
  },
  {
   "cell_type": "code",
   "execution_count": 133,
   "metadata": {},
   "outputs": [
    {
     "data": {
      "text/plain": [
       "32"
      ]
     },
     "execution_count": 133,
     "metadata": {},
     "output_type": "execute_result"
    }
   ],
   "source": [
    "iterPower(2, 5)"
   ]
  },
  {
   "cell_type": "code",
   "execution_count": 136,
   "metadata": {},
   "outputs": [],
   "source": [
    "def gcdIter(a, b):\n",
    "    '''\n",
    "    a, b: positive integers\n",
    "    \n",
    "    returns: a positive integer, the greatest common divisor of a & b.\n",
    "    '''\n",
    "    gcd = a\n",
    "    \n",
    "    while b % gcd != 0 or a % gcd !=0:\n",
    "        gcd = gcd - 1\n",
    "    return gcd "
   ]
  },
  {
   "cell_type": "code",
   "execution_count": 138,
   "metadata": {},
   "outputs": [
    {
     "data": {
      "text/plain": [
       "5"
      ]
     },
     "execution_count": 138,
     "metadata": {},
     "output_type": "execute_result"
    }
   ],
   "source": [
    "gcdIter(65, 255)"
   ]
  },
  {
   "cell_type": "code",
   "execution_count": 139,
   "metadata": {},
   "outputs": [],
   "source": [
    "def gcdRecur(a, b):\n",
    "    '''\n",
    "    a, b: positive integers\n",
    "    \n",
    "    returns: a positive integer, the greatest common divisor of a & b.\n",
    "    '''\n",
    "    # Base case is when b = 0\n",
    "    if b == 0:\n",
    "        return a\n",
    "\n",
    "    # Recursive case\n",
    "    return gcdRecur(b, a % b)"
   ]
  },
  {
   "cell_type": "code",
   "execution_count": 145,
   "metadata": {},
   "outputs": [
    {
     "data": {
      "text/plain": [
       "3"
      ]
     },
     "execution_count": 145,
     "metadata": {},
     "output_type": "execute_result"
    }
   ],
   "source": [
    "gcdRecur (24, 15)"
   ]
  },
  {
   "cell_type": "code",
   "execution_count": 146,
   "metadata": {},
   "outputs": [],
   "source": [
    "def fib(n):\n",
    "    \"\"\"\n",
    "    n: positive integer\n",
    "    \n",
    "    returns: fibonacci sequence value\n",
    "    \"\"\"\n",
    "    if n == 0 or n == 1:\n",
    "        return 1\n",
    "    else:\n",
    "        return fib(n-1) + fib (n-2)"
   ]
  },
  {
   "cell_type": "code",
   "execution_count": 147,
   "metadata": {},
   "outputs": [
    {
     "data": {
      "text/plain": [
       "5"
      ]
     },
     "execution_count": 147,
     "metadata": {},
     "output_type": "execute_result"
    }
   ],
   "source": [
    "fib(4)"
   ]
  },
  {
   "cell_type": "code",
   "execution_count": 152,
   "metadata": {},
   "outputs": [
    {
     "data": {
      "text/plain": [
       "13"
      ]
     },
     "execution_count": 152,
     "metadata": {},
     "output_type": "execute_result"
    }
   ],
   "source": [
    "fib(6)"
   ]
  },
  {
   "cell_type": "code",
   "execution_count": 202,
   "metadata": {},
   "outputs": [],
   "source": [
    "def isIn(char, aStr):\n",
    "    '''\n",
    "    char: a single character\n",
    "    aStr: an alphabetized string\n",
    "    \n",
    "    returns: True if char is in aStr; False otherwise\n",
    "    '''\n",
    "    \n",
    "    aStr = \" \" + aStr\n",
    "    \n",
    "    if char == aStr:\n",
    "        return True\n",
    "    \n",
    "    else:\n",
    "        while len(aStr) != 1:\n",
    "            if char == aStr[round(len(aStr)/2)]:\n",
    "                return True\n",
    "            \n",
    "            elif char > aStr[round(len(aStr)/2)]:\n",
    "                aStr = aStr[round(len(aStr)/2):]\n",
    "            else:\n",
    "                aStr = aStr[:round(len(aStr)/2)]\n",
    "                \n",
    "        return False\n",
    "    \n"
   ]
  },
  {
   "cell_type": "code",
   "execution_count": 206,
   "metadata": {},
   "outputs": [
    {
     "data": {
      "text/plain": [
       "True"
      ]
     },
     "execution_count": 206,
     "metadata": {},
     "output_type": "execute_result"
    }
   ],
   "source": [
    "str1 = \"abcdefghijklmnopq\"\n",
    "isIn(\"i\",str1)"
   ]
  },
  {
   "cell_type": "code",
   "execution_count": 238,
   "metadata": {},
   "outputs": [],
   "source": [
    "def isIn(char, aStr):\n",
    "    '''\n",
    "    char: a single character\n",
    "    aStr: an alphabetized string\n",
    "    \n",
    "    returns: True if char is in aStr; False otherwise\n",
    "    '''\n",
    "    \n",
    "    aStr = \" \" + aStr\n",
    "    \n",
    "    if char == aStr[round(len(aStr)/2)]:\n",
    "        return True\n",
    "    \n",
    "    else:\n",
    "        if len(aStr) == 2 or len(aStr) == 0:\n",
    "            return False\n",
    "        \n",
    "        elif char > aStr[round(len(aStr)/2)]:\n",
    "            aStr = aStr[round(len(aStr)/2):]\n",
    "            isIn(char, aStr)\n",
    "            return True\n",
    "            \n",
    "        else:\n",
    "            aStr = aStr[:round(len(aStr)/2)]\n",
    "            isIn(char, aStr)\n",
    "            return True\n",
    "      \n",
    "    \n"
   ]
  },
  {
   "cell_type": "code",
   "execution_count": 247,
   "metadata": {},
   "outputs": [
    {
     "data": {
      "text/plain": [
       "False"
      ]
     },
     "execution_count": 247,
     "metadata": {},
     "output_type": "execute_result"
    }
   ],
   "source": [
    "str1 = \"abcdefghijklmnopq\"\n",
    "isIn(\"z\",str1)"
   ]
  },
  {
   "cell_type": "code",
   "execution_count": 243,
   "metadata": {},
   "outputs": [],
   "source": [
    "def isIn(char, aStr):\n",
    "   '''\n",
    "   char: a single character\n",
    "   aStr: an alphabetized string\n",
    "   \n",
    "   returns: True if char is in aStr; False otherwise\n",
    "   '''\n",
    "   # Base case: If aStr is empty, we did not find the char.\n",
    "   if aStr == '':\n",
    "      return False\n",
    "\n",
    "   # Base case: if aStr is of length 1, just see if the chars are equal\n",
    "   if len(aStr) == 1:\n",
    "      return aStr == char\n",
    "\n",
    "   # Base case: See if the character in the middle of aStr equals the \n",
    "   #   test character \n",
    "   midIndex = len(aStr)//2\n",
    "   midChar = aStr[midIndex]\n",
    "   if char == midChar:\n",
    "      # We found the character!\n",
    "      return True\n",
    "   \n",
    "   # Recursive case: If the test character is smaller than the middle \n",
    "   #  character, recursively search on the first half of aStr\n",
    "   elif char < midChar:\n",
    "      return isIn(char, aStr[:midIndex])\n",
    "\n",
    "   # Otherwise the test character is larger than the middle character,\n",
    "   #  so recursively search on the last half of aStr\n",
    "   else:\n",
    "      return isIn(char, aStr[midIndex+1:])"
   ]
  },
  {
   "cell_type": "code",
   "execution_count": 166,
   "metadata": {},
   "outputs": [
    {
     "data": {
      "text/plain": [
       "True"
      ]
     },
     "execution_count": 166,
     "metadata": {},
     "output_type": "execute_result"
    }
   ],
   "source": [
    "b > a"
   ]
  },
  {
   "cell_type": "code",
   "execution_count": 252,
   "metadata": {},
   "outputs": [
    {
     "data": {
      "text/plain": [
       "8"
      ]
     },
     "execution_count": 252,
     "metadata": {},
     "output_type": "execute_result"
    }
   ],
   "source": [
    "len(str1)//2"
   ]
  },
  {
   "cell_type": "code",
   "execution_count": 260,
   "metadata": {},
   "outputs": [],
   "source": [
    "def polysum(n,s):\n",
    "    import math\n",
    "    perim = (n * s)**2\n",
    "    area = 0.25*n*s**2/(math.tan(math.pi/n))\n",
    "    return round(area + perim,4)"
   ]
  },
  {
   "cell_type": "code",
   "execution_count": 257,
   "metadata": {},
   "outputs": [
    {
     "data": {
      "text/plain": [
       "27.527669131935724"
      ]
     },
     "execution_count": 257,
     "metadata": {},
     "output_type": "execute_result"
    }
   ],
   "source": [
    "import math\n",
    "n = 5\n",
    "s=4\n",
    "pi = 3.14159\n",
    "area = 0.25*n*s**2/(math.tan(pi/n))\n",
    "area"
   ]
  },
  {
   "cell_type": "code",
   "execution_count": 263,
   "metadata": {},
   "outputs": [
    {
     "data": {
      "text/plain": [
       "4691.11"
      ]
     },
     "execution_count": 263,
     "metadata": {},
     "output_type": "execute_result"
    }
   ],
   "source": [
    "balance = 5000\n",
    "annualInterestRate = 0.18\n",
    "monthlyPaymentRate = 0.02\n",
    "n = 12\n",
    "monthlyInterestRate = annualInterestRate/12\n",
    "\n",
    "for i in range(0,n):\n",
    "    minimumMonthlyPayment = balance * monthlyPaymentRate\n",
    "    monthlyUnpaidBalance = balance - minimumMonthlyPayment\n",
    "    balance = monthlyUnpaidBalance + monthlyUnpaidBalance*monthlyInterestRate\n",
    "\n",
    "round(balance,2)\n",
    "\n"
   ]
  },
  {
   "cell_type": "code",
   "execution_count": 280,
   "metadata": {},
   "outputs": [
    {
     "data": {
      "text/plain": [
       "340.0"
      ]
     },
     "execution_count": 280,
     "metadata": {},
     "output_type": "execute_result"
    }
   ],
   "source": [
    "balance = 4029\n",
    "annualInterestRate = 0.04\n",
    "n = 12\n",
    "monthlyInterestRate = annualInterestRate/12\n",
    "\n",
    "minimumMonthlyPayment = (balance * monthlyInterestRate) / (1 - (1 + monthlyInterestRate)**(-n))\n",
    "\n",
    "for i in range(0,n):\n",
    "    monthlyUnpaidBalance = balance - minimumMonthlyPayment\n",
    "    balance = monthlyUnpaidBalance + monthlyUnpaidBalance*monthlyInterestRate\n",
    "\n",
    "if balance > 0:\n",
    "    minimumMonthlyPayment = minimumMonthlyPayment + 10\n",
    "   \n",
    "print(round(minimumMonthlyPayment,-1))"
   ]
  },
  {
   "cell_type": "code",
   "execution_count": 1,
   "metadata": {},
   "outputs": [],
   "source": [
    "#Week 3 Lecture 5\n",
    "\n",
    "s = ('I', 'am', 'a', 'test', 'tuple')"
   ]
  },
  {
   "cell_type": "code",
   "execution_count": 8,
   "metadata": {},
   "outputs": [
    {
     "name": "stdout",
     "output_type": "stream",
     "text": [
      "('I', 'a', 'tuple')\n"
     ]
    }
   ],
   "source": [
    "atup = s[::2]\n",
    "\n",
    "print(atup)"
   ]
  },
  {
   "cell_type": "code",
   "execution_count": 1,
   "metadata": {},
   "outputs": [],
   "source": [
    "chill = [\"blue\", \"yellow\", \"red\"]"
   ]
  },
  {
   "cell_type": "code",
   "execution_count": 2,
   "metadata": {},
   "outputs": [],
   "source": [
    "warm = chill [:]"
   ]
  },
  {
   "cell_type": "code",
   "execution_count": 3,
   "metadata": {},
   "outputs": [
    {
     "data": {
      "text/plain": [
       "['blue', 'yellow', 'red']"
      ]
     },
     "execution_count": 3,
     "metadata": {},
     "output_type": "execute_result"
    }
   ],
   "source": [
    "chill"
   ]
  },
  {
   "cell_type": "code",
   "execution_count": 4,
   "metadata": {},
   "outputs": [
    {
     "data": {
      "text/plain": [
       "['blue', 'yellow', 'red']"
      ]
     },
     "execution_count": 4,
     "metadata": {},
     "output_type": "execute_result"
    }
   ],
   "source": [
    "warm"
   ]
  },
  {
   "cell_type": "code",
   "execution_count": 5,
   "metadata": {},
   "outputs": [],
   "source": [
    "chill.append(\"pink\")"
   ]
  },
  {
   "cell_type": "code",
   "execution_count": 6,
   "metadata": {},
   "outputs": [
    {
     "data": {
      "text/plain": [
       "['blue', 'yellow', 'red', 'pink']"
      ]
     },
     "execution_count": 6,
     "metadata": {},
     "output_type": "execute_result"
    }
   ],
   "source": [
    "chill"
   ]
  },
  {
   "cell_type": "code",
   "execution_count": 7,
   "metadata": {},
   "outputs": [
    {
     "data": {
      "text/plain": [
       "['blue', 'yellow', 'red']"
      ]
     },
     "execution_count": 7,
     "metadata": {},
     "output_type": "execute_result"
    }
   ],
   "source": [
    "warm"
   ]
  },
  {
   "cell_type": "code",
   "execution_count": 8,
   "metadata": {},
   "outputs": [],
   "source": [
    "L1 = [1,28,36]\n",
    "L2 = [2,57,9]"
   ]
  },
  {
   "cell_type": "code",
   "execution_count": 17,
   "metadata": {},
   "outputs": [
    {
     "data": {
      "text/plain": [
       "[1, 28, 9]"
      ]
     },
     "execution_count": 17,
     "metadata": {},
     "output_type": "execute_result"
    }
   ],
   "source": [
    "L3 = []\n",
    "for a in map(min,L1,L2):\n",
    "    L3.append(a)\n",
    "L3"
   ]
  },
  {
   "cell_type": "code",
   "execution_count": 13,
   "metadata": {},
   "outputs": [
    {
     "data": {
      "text/plain": [
       "<map at 0x16e171b83c8>"
      ]
     },
     "execution_count": 13,
     "metadata": {},
     "output_type": "execute_result"
    }
   ],
   "source": []
  },
  {
   "cell_type": "code",
   "execution_count": null,
   "metadata": {},
   "outputs": [],
   "source": [
    "#problem set 3\n",
    "\n"
   ]
  },
  {
   "cell_type": "code",
   "execution_count": 37,
   "metadata": {},
   "outputs": [],
   "source": [
    "class Coordinate(object):\n",
    "    def __init__(self, x, y):\n",
    "        self.x = x\n",
    "        self.y = y\n",
    "    def distance(self, other):\n",
    "        x_diff_sq = (self.x-other.x)**2\n",
    "        y_diff_sq = (self.y-other.y)**2\n",
    "        return (x_diff_sq + y_diff_sq)**0.5\n",
    "    def __str__(self):\n",
    "        return \"<\" + str(self.x) + \",\" + str(self.y) + \">\"\n",
    "    def __sub__(self, other):\n",
    "        return Coordinate(self.x - other.x, self.y - other.y)"
   ]
  },
  {
   "cell_type": "code",
   "execution_count": 38,
   "metadata": {},
   "outputs": [],
   "source": [
    "c = Coordinate(3,4)\n",
    "origin = Coordinate(0,0)\n",
    "d = Coordinate(3,5)"
   ]
  },
  {
   "cell_type": "code",
   "execution_count": 41,
   "metadata": {},
   "outputs": [
    {
     "name": "stdout",
     "output_type": "stream",
     "text": [
      "<0,-1>\n"
     ]
    }
   ],
   "source": [
    "foo = c-d\n",
    "print(foo)"
   ]
  },
  {
   "cell_type": "code",
   "execution_count": 9,
   "metadata": {},
   "outputs": [
    {
     "data": {
      "text/plain": [
       "4"
      ]
     },
     "execution_count": 9,
     "metadata": {},
     "output_type": "execute_result"
    }
   ],
   "source": [
    "c.y"
   ]
  },
  {
   "cell_type": "code",
   "execution_count": 10,
   "metadata": {},
   "outputs": [
    {
     "data": {
      "text/plain": [
       "0"
      ]
     },
     "execution_count": 10,
     "metadata": {},
     "output_type": "execute_result"
    }
   ],
   "source": [
    "origin.y"
   ]
  },
  {
   "cell_type": "code",
   "execution_count": 11,
   "metadata": {},
   "outputs": [
    {
     "name": "stdout",
     "output_type": "stream",
     "text": [
      "4   0\n"
     ]
    }
   ],
   "source": [
    "print(c.y, \" \", origin.y)"
   ]
  },
  {
   "cell_type": "code",
   "execution_count": 19,
   "metadata": {},
   "outputs": [
    {
     "data": {
      "text/plain": [
       "5.0"
      ]
     },
     "execution_count": 19,
     "metadata": {},
     "output_type": "execute_result"
    }
   ],
   "source": [
    "origin.distance(c)"
   ]
  },
  {
   "cell_type": "code",
   "execution_count": 35,
   "metadata": {},
   "outputs": [],
   "source": [
    "d = Coordinate(3,5)"
   ]
  },
  {
   "cell_type": "code",
   "execution_count": 21,
   "metadata": {},
   "outputs": [
    {
     "data": {
      "text/plain": [
       "1.0"
      ]
     },
     "execution_count": 21,
     "metadata": {},
     "output_type": "execute_result"
    }
   ],
   "source": [
    "c.distance(d)"
   ]
  },
  {
   "cell_type": "code",
   "execution_count": 22,
   "metadata": {},
   "outputs": [
    {
     "data": {
      "text/plain": [
       "5.0"
      ]
     },
     "execution_count": 22,
     "metadata": {},
     "output_type": "execute_result"
    }
   ],
   "source": [
    "Coordinate.distance(c, origin)"
   ]
  },
  {
   "cell_type": "code",
   "execution_count": 30,
   "metadata": {},
   "outputs": [
    {
     "data": {
      "text/plain": [
       "<__main__.Coordinate at 0x106044fd0>"
      ]
     },
     "execution_count": 30,
     "metadata": {},
     "output_type": "execute_result"
    }
   ],
   "source": [
    "c"
   ]
  },
  {
   "cell_type": "code",
   "execution_count": 31,
   "metadata": {},
   "outputs": [
    {
     "name": "stdout",
     "output_type": "stream",
     "text": [
      "<3,4>\n"
     ]
    }
   ],
   "source": [
    "print(c)"
   ]
  },
  {
   "cell_type": "code",
   "execution_count": 33,
   "metadata": {},
   "outputs": [
    {
     "data": {
      "text/plain": [
       "<__main__.Coordinate at 0x1060365c0>"
      ]
     },
     "execution_count": 33,
     "metadata": {},
     "output_type": "execute_result"
    }
   ],
   "source": [
    "d"
   ]
  },
  {
   "cell_type": "code",
   "execution_count": 36,
   "metadata": {},
   "outputs": [
    {
     "name": "stdout",
     "output_type": "stream",
     "text": [
      "<3,5>\n"
     ]
    }
   ],
   "source": [
    "print(d)"
   ]
  },
  {
   "cell_type": "code",
   "execution_count": 43,
   "metadata": {},
   "outputs": [],
   "source": [
    "class Clock(object):\n",
    "    def __init__(self, time):\n",
    "        self.time = time\n",
    "    def print_time(self):\n",
    "        time = '6:30'\n",
    "        print(self.time)"
   ]
  },
  {
   "cell_type": "code",
   "execution_count": 44,
   "metadata": {},
   "outputs": [
    {
     "name": "stdout",
     "output_type": "stream",
     "text": [
      "5:30\n"
     ]
    }
   ],
   "source": [
    "clock = Clock('5:30')\n",
    "clock.print_time()"
   ]
  },
  {
   "cell_type": "code",
   "execution_count": 45,
   "metadata": {},
   "outputs": [],
   "source": [
    "class Weird(object):\n",
    "    def __init__(self, x, y): \n",
    "        self.y = y\n",
    "        self.x = x\n",
    "    def getX(self):\n",
    "        return x \n",
    "    def getY(self):\n",
    "        return y\n",
    "\n",
    "class Wild(object):\n",
    "    def __init__(self, x, y): \n",
    "        self.y = y\n",
    "        self.x = x\n",
    "    def getX(self):\n",
    "        return self.x \n",
    "    def getY(self):\n",
    "        return self.y"
   ]
  },
  {
   "cell_type": "code",
   "execution_count": 46,
   "metadata": {},
   "outputs": [],
   "source": [
    "X = 7\n",
    "Y = 8"
   ]
  },
  {
   "cell_type": "code",
   "execution_count": 47,
   "metadata": {},
   "outputs": [
    {
     "ename": "NameError",
     "evalue": "name 'x' is not defined",
     "output_type": "error",
     "traceback": [
      "\u001b[0;31m---------------------------------------------------------------------------\u001b[0m",
      "\u001b[0;31mNameError\u001b[0m                                 Traceback (most recent call last)",
      "\u001b[0;32m<ipython-input-47-3a702173a17e>\u001b[0m in \u001b[0;36m<module>\u001b[0;34m()\u001b[0m\n\u001b[1;32m      1\u001b[0m \u001b[0mw1\u001b[0m \u001b[0;34m=\u001b[0m \u001b[0mWeird\u001b[0m\u001b[0;34m(\u001b[0m\u001b[0mX\u001b[0m\u001b[0;34m,\u001b[0m \u001b[0mY\u001b[0m\u001b[0;34m)\u001b[0m\u001b[0;34m\u001b[0m\u001b[0m\n\u001b[0;32m----> 2\u001b[0;31m \u001b[0mprint\u001b[0m\u001b[0;34m(\u001b[0m\u001b[0mw1\u001b[0m\u001b[0;34m.\u001b[0m\u001b[0mgetX\u001b[0m\u001b[0;34m(\u001b[0m\u001b[0;34m)\u001b[0m\u001b[0;34m)\u001b[0m\u001b[0;34m\u001b[0m\u001b[0m\n\u001b[0m",
      "\u001b[0;32m<ipython-input-45-2eab4a1d214c>\u001b[0m in \u001b[0;36mgetX\u001b[0;34m(self)\u001b[0m\n\u001b[1;32m      4\u001b[0m         \u001b[0mself\u001b[0m\u001b[0;34m.\u001b[0m\u001b[0mx\u001b[0m \u001b[0;34m=\u001b[0m \u001b[0mx\u001b[0m\u001b[0;34m\u001b[0m\u001b[0m\n\u001b[1;32m      5\u001b[0m     \u001b[0;32mdef\u001b[0m \u001b[0mgetX\u001b[0m\u001b[0;34m(\u001b[0m\u001b[0mself\u001b[0m\u001b[0;34m)\u001b[0m\u001b[0;34m:\u001b[0m\u001b[0;34m\u001b[0m\u001b[0m\n\u001b[0;32m----> 6\u001b[0;31m         \u001b[0;32mreturn\u001b[0m \u001b[0mx\u001b[0m\u001b[0;34m\u001b[0m\u001b[0m\n\u001b[0m\u001b[1;32m      7\u001b[0m     \u001b[0;32mdef\u001b[0m \u001b[0mgetY\u001b[0m\u001b[0;34m(\u001b[0m\u001b[0mself\u001b[0m\u001b[0;34m)\u001b[0m\u001b[0;34m:\u001b[0m\u001b[0;34m\u001b[0m\u001b[0m\n\u001b[1;32m      8\u001b[0m         \u001b[0;32mreturn\u001b[0m \u001b[0my\u001b[0m\u001b[0;34m\u001b[0m\u001b[0m\n",
      "\u001b[0;31mNameError\u001b[0m: name 'x' is not defined"
     ]
    }
   ],
   "source": [
    "w1 = Weird(X, Y)\n",
    "print(w1.getX())"
   ]
  },
  {
   "cell_type": "code",
   "execution_count": 48,
   "metadata": {},
   "outputs": [
    {
     "ename": "NameError",
     "evalue": "name 'y' is not defined",
     "output_type": "error",
     "traceback": [
      "\u001b[0;31m---------------------------------------------------------------------------\u001b[0m",
      "\u001b[0;31mNameError\u001b[0m                                 Traceback (most recent call last)",
      "\u001b[0;32m<ipython-input-48-68aacfed96e2>\u001b[0m in \u001b[0;36m<module>\u001b[0;34m()\u001b[0m\n\u001b[0;32m----> 1\u001b[0;31m \u001b[0mprint\u001b[0m\u001b[0;34m(\u001b[0m\u001b[0mw1\u001b[0m\u001b[0;34m.\u001b[0m\u001b[0mgetY\u001b[0m\u001b[0;34m(\u001b[0m\u001b[0;34m)\u001b[0m\u001b[0;34m)\u001b[0m\u001b[0;34m\u001b[0m\u001b[0m\n\u001b[0m",
      "\u001b[0;32m<ipython-input-45-2eab4a1d214c>\u001b[0m in \u001b[0;36mgetY\u001b[0;34m(self)\u001b[0m\n\u001b[1;32m      6\u001b[0m         \u001b[0;32mreturn\u001b[0m \u001b[0mx\u001b[0m\u001b[0;34m\u001b[0m\u001b[0m\n\u001b[1;32m      7\u001b[0m     \u001b[0;32mdef\u001b[0m \u001b[0mgetY\u001b[0m\u001b[0;34m(\u001b[0m\u001b[0mself\u001b[0m\u001b[0;34m)\u001b[0m\u001b[0;34m:\u001b[0m\u001b[0;34m\u001b[0m\u001b[0m\n\u001b[0;32m----> 8\u001b[0;31m         \u001b[0;32mreturn\u001b[0m \u001b[0my\u001b[0m\u001b[0;34m\u001b[0m\u001b[0m\n\u001b[0m\u001b[1;32m      9\u001b[0m \u001b[0;34m\u001b[0m\u001b[0m\n\u001b[1;32m     10\u001b[0m \u001b[0;32mclass\u001b[0m \u001b[0mWild\u001b[0m\u001b[0;34m(\u001b[0m\u001b[0mobject\u001b[0m\u001b[0;34m)\u001b[0m\u001b[0;34m:\u001b[0m\u001b[0;34m\u001b[0m\u001b[0m\n",
      "\u001b[0;31mNameError\u001b[0m: name 'y' is not defined"
     ]
    }
   ],
   "source": [
    "print(w1.getY())"
   ]
  },
  {
   "cell_type": "code",
   "execution_count": 49,
   "metadata": {},
   "outputs": [
    {
     "name": "stdout",
     "output_type": "stream",
     "text": [
      "7\n"
     ]
    }
   ],
   "source": [
    "w2 = Wild(X, Y)\n",
    "print(w2.getX())"
   ]
  },
  {
   "cell_type": "code",
   "execution_count": 50,
   "metadata": {},
   "outputs": [
    {
     "name": "stdout",
     "output_type": "stream",
     "text": [
      "8\n"
     ]
    }
   ],
   "source": [
    "print(w2.getY())\n"
   ]
  },
  {
   "cell_type": "code",
   "execution_count": 51,
   "metadata": {},
   "outputs": [
    {
     "name": "stdout",
     "output_type": "stream",
     "text": [
      "17\n"
     ]
    }
   ],
   "source": [
    "w3 = Wild(17, 18)\n",
    "print(w3.getX())"
   ]
  },
  {
   "cell_type": "code",
   "execution_count": 52,
   "metadata": {},
   "outputs": [
    {
     "name": "stdout",
     "output_type": "stream",
     "text": [
      "18\n"
     ]
    }
   ],
   "source": [
    "print(w3.getY())\n"
   ]
  },
  {
   "cell_type": "code",
   "execution_count": 53,
   "metadata": {},
   "outputs": [
    {
     "name": "stdout",
     "output_type": "stream",
     "text": [
      "7\n"
     ]
    }
   ],
   "source": [
    "w4 = Wild(X, 18)\n",
    "print(w4.getX())"
   ]
  },
  {
   "cell_type": "code",
   "execution_count": 54,
   "metadata": {},
   "outputs": [
    {
     "name": "stdout",
     "output_type": "stream",
     "text": [
      "18\n"
     ]
    }
   ],
   "source": [
    "print(w4.getY())"
   ]
  },
  {
   "cell_type": "code",
   "execution_count": 55,
   "metadata": {},
   "outputs": [
    {
     "name": "stdout",
     "output_type": "stream",
     "text": [
      "31\n"
     ]
    }
   ],
   "source": [
    "X = w4.getX() + w3.getX() + w2.getX()\n",
    "print(X)"
   ]
  },
  {
   "cell_type": "code",
   "execution_count": 56,
   "metadata": {},
   "outputs": [
    {
     "name": "stdout",
     "output_type": "stream",
     "text": [
      "7\n"
     ]
    }
   ],
   "source": [
    "print(w4.getX())\n"
   ]
  },
  {
   "cell_type": "code",
   "execution_count": 57,
   "metadata": {},
   "outputs": [
    {
     "name": "stdout",
     "output_type": "stream",
     "text": [
      "44\n"
     ]
    }
   ],
   "source": [
    "Y = w4.getY() + w3.getY()\n",
    "Y = Y + w2.getY()\n",
    "print(Y)"
   ]
  },
  {
   "cell_type": "code",
   "execution_count": 58,
   "metadata": {},
   "outputs": [
    {
     "name": "stdout",
     "output_type": "stream",
     "text": [
      "8\n"
     ]
    }
   ],
   "source": [
    "print(w2.getY())\n"
   ]
  },
  {
   "cell_type": "code",
   "execution_count": 59,
   "metadata": {},
   "outputs": [
    {
     "name": "stdout",
     "output_type": "stream",
     "text": [
      "1/3\n"
     ]
    }
   ],
   "source": [
    "print(\"1/3\")"
   ]
  },
  {
   "cell_type": "code",
   "execution_count": 71,
   "metadata": {},
   "outputs": [],
   "source": [
    "class fraction(object):\n",
    "    def __init__(self, numer, denom):\n",
    "        self.numer = numer\n",
    "        self.denom = denom\n",
    "    def __str__(self):\n",
    "        return str(self.numer) + \"/\" + str(self.denom)\n",
    "    def getNumer(self):\n",
    "        return self.numer\n",
    "    def getDenom(self):\n",
    "        return self.denom\n",
    "    def __add__ (self, other):\n",
    "        numerNew = other.getDenom() * self.getNumer() + other.getNumer() * self.getDenom()\n",
    "        denomNew = other.getDenom() * self.getDenom()\n",
    "        return fraction(numerNew, denomNew)\n",
    "    def convert(self):\n",
    "        return self.getNumer() / self.getDenom()\n",
    "    \n",
    "    "
   ]
  },
  {
   "cell_type": "code",
   "execution_count": 75,
   "metadata": {},
   "outputs": [],
   "source": [
    "a = fraction(1,2)\n",
    "b = fraction(2,3)"
   ]
  },
  {
   "cell_type": "code",
   "execution_count": 78,
   "metadata": {},
   "outputs": [
    {
     "name": "stdout",
     "output_type": "stream",
     "text": [
      "7/6\n",
      "1.1666666666666667\n"
     ]
    }
   ],
   "source": [
    "new = a + b\n",
    "\n",
    "print(new)\n",
    "print(new.convert())"
   ]
  },
  {
   "cell_type": "code",
   "execution_count": 64,
   "metadata": {},
   "outputs": [
    {
     "name": "stdout",
     "output_type": "stream",
     "text": [
      "1/2\n"
     ]
    }
   ],
   "source": [
    "print(a)"
   ]
  },
  {
   "cell_type": "code",
   "execution_count": 65,
   "metadata": {},
   "outputs": [
    {
     "name": "stdout",
     "output_type": "stream",
     "text": [
      "2/3\n"
     ]
    }
   ],
   "source": [
    "print(b)"
   ]
  },
  {
   "cell_type": "code",
   "execution_count": 93,
   "metadata": {},
   "outputs": [],
   "source": [
    "class intSet(object):\n",
    "    def __init__(self):\n",
    "        self.vals = []\n",
    "    def insert (self, e):\n",
    "        self.vals.append(e)\n",
    "    def number (self, e):\n",
    "        if not e in self.vals:\n",
    "            self.vals.append(e)\n",
    "    def member (self, e):\n",
    "        return e in self.vals\n",
    "    def remove (self, e):\n",
    "        try:\n",
    "            self.vals.remove(e)\n",
    "        except:\n",
    "            raise ValuError(str(e) + 'not found')\n",
    "    def __str__(self):\n",
    "        self.vals.sort()\n",
    "        result = ''\n",
    "        for e in self.vals:\n",
    "            result = result + str(e) + ','\n",
    "        return '{' + result[:-1] + '}'"
   ]
  },
  {
   "cell_type": "code",
   "execution_count": 97,
   "metadata": {},
   "outputs": [
    {
     "name": "stdout",
     "output_type": "stream",
     "text": [
      "{}\n"
     ]
    }
   ],
   "source": [
    "a = intSet()\n",
    "print(a)"
   ]
  },
  {
   "cell_type": "code",
   "execution_count": 102,
   "metadata": {},
   "outputs": [],
   "source": [
    "a.insert(8)"
   ]
  },
  {
   "cell_type": "code",
   "execution_count": 103,
   "metadata": {},
   "outputs": [
    {
     "name": "stdout",
     "output_type": "stream",
     "text": [
      "{3,5,8}\n"
     ]
    }
   ],
   "source": [
    "print(a)"
   ]
  },
  {
   "cell_type": "code",
   "execution_count": 104,
   "metadata": {},
   "outputs": [
    {
     "data": {
      "text/plain": [
       "True"
      ]
     },
     "execution_count": 104,
     "metadata": {},
     "output_type": "execute_result"
    }
   ],
   "source": [
    "a.member(5)"
   ]
  },
  {
   "cell_type": "code",
   "execution_count": 131,
   "metadata": {},
   "outputs": [],
   "source": [
    "class Coordinate(object):\n",
    "    def __init__(self,x,y):\n",
    "        self.x = x\n",
    "        self.y = y\n",
    "\n",
    "    def getX(self):\n",
    "        # Getter method for a Coordinate object's x coordinate.\n",
    "        # Getter methods are better practice than just accessing an attribute directly\n",
    "        return self.x\n",
    "\n",
    "    def getY(self):\n",
    "        # Getter method for a Coordinate object's y coordinate\n",
    "        return self.y\n",
    "\n",
    "    def __str__(self):\n",
    "        return '<' + str(self.getX()) + ',' + str(self.getY()) + '>'\n",
    "    def __eq__(self, other):\n",
    "        return self.x == other.x and self.y == other.y\n",
    "    def __repr__(self):\n",
    "        return 'Coordinate(' + str(self.getX()) + ',' + str(self.getY()) + ')' "
   ]
  },
  {
   "cell_type": "code",
   "execution_count": 132,
   "metadata": {},
   "outputs": [],
   "source": [
    "c = Coordinate(3,4)\n",
    "origin = Coordinate(0,0)\n",
    "d = Coordinate(3,8)"
   ]
  },
  {
   "cell_type": "code",
   "execution_count": 133,
   "metadata": {},
   "outputs": [
    {
     "data": {
      "text/plain": [
       "False"
      ]
     },
     "execution_count": 133,
     "metadata": {},
     "output_type": "execute_result"
    }
   ],
   "source": [
    "c == d"
   ]
  },
  {
   "cell_type": "code",
   "execution_count": 134,
   "metadata": {},
   "outputs": [
    {
     "name": "stdout",
     "output_type": "stream",
     "text": [
      "<3,4>\n"
     ]
    }
   ],
   "source": [
    "print(c)"
   ]
  },
  {
   "cell_type": "code",
   "execution_count": 135,
   "metadata": {},
   "outputs": [
    {
     "data": {
      "text/plain": [
       "Coordinate(3,4)"
      ]
     },
     "execution_count": 135,
     "metadata": {},
     "output_type": "execute_result"
    }
   ],
   "source": [
    "c"
   ]
  },
  {
   "cell_type": "code",
   "execution_count": 169,
   "metadata": {},
   "outputs": [],
   "source": [
    "class intSet(object):\n",
    "    \"\"\"An intSet is a set of integers\n",
    "    The value is represented by a list of ints, self.vals.\n",
    "    Each int in the set occurs in self.vals exactly once.\"\"\"\n",
    "\n",
    "    def __init__(self):\n",
    "        \"\"\"Create an empty set of integers\"\"\"\n",
    "        self.vals = []\n",
    "\n",
    "    def insert(self, e):\n",
    "        \"\"\"Assumes e is an integer and inserts e into self\"\"\" \n",
    "        if not e in self.vals:\n",
    "            self.vals.append(e)\n",
    "\n",
    "    def member(self, e):\n",
    "        \"\"\"Assumes e is an integer\n",
    "           Returns True if e is in self, and False otherwise\"\"\"\n",
    "        return e in self.vals\n",
    "\n",
    "    def remove(self, e):\n",
    "        \"\"\"Assumes e is an integer and removes e from self\n",
    "           Raises ValueError if e is not in self\"\"\"\n",
    "        try:\n",
    "            self.vals.remove(e)\n",
    "        except:\n",
    "            raise ValueError(str(e) + ' not found')\n",
    "\n",
    "    def __str__(self):\n",
    "        \"\"\"Returns a string representation of self\"\"\"\n",
    "        self.vals.sort()\n",
    "        return '{' + ','.join([str(e) for e in self.vals]) + '}'\n",
    "    def intersect(self, other):\n",
    "        \"\"\"Assumes other is an intSet\n",
    "           Returns a new intSet containing elements that appear in both sets.\"\"\"\n",
    "        # Initialize a new intSet    \n",
    "        commonValueSet = intSet()\n",
    "        # Go through the values in this set\n",
    "        for val in self.vals:\n",
    "            # Check if each value is a member of the other set    \n",
    "            if other.member(val):\n",
    "                commonValueSet.insert(val)\n",
    "        return commonValueSet\n",
    "    def __len__(self):\n",
    "        \"\"\"Returns the length of the set.\n",
    "           This method is called by the `len` built-in function.\"\"\"\n",
    "        return len(self.vals)\n",
    "        "
   ]
  },
  {
   "cell_type": "code",
   "execution_count": 170,
   "metadata": {},
   "outputs": [],
   "source": [
    "s1 = intSet()\n"
   ]
  },
  {
   "cell_type": "code",
   "execution_count": 180,
   "metadata": {},
   "outputs": [],
   "source": [
    "s1.insert(5)"
   ]
  },
  {
   "cell_type": "code",
   "execution_count": 181,
   "metadata": {},
   "outputs": [
    {
     "name": "stdout",
     "output_type": "stream",
     "text": [
      "{3,4,5}\n"
     ]
    }
   ],
   "source": [
    "print(s1)"
   ]
  },
  {
   "cell_type": "code",
   "execution_count": 182,
   "metadata": {},
   "outputs": [],
   "source": [
    "s2 = intSet()"
   ]
  },
  {
   "cell_type": "code",
   "execution_count": 186,
   "metadata": {},
   "outputs": [],
   "source": [
    "s2.insert(3)"
   ]
  },
  {
   "cell_type": "code",
   "execution_count": 187,
   "metadata": {},
   "outputs": [
    {
     "name": "stdout",
     "output_type": "stream",
     "text": [
      "{2,3,5}\n"
     ]
    }
   ],
   "source": [
    "print(s2)"
   ]
  },
  {
   "cell_type": "code",
   "execution_count": 188,
   "metadata": {},
   "outputs": [
    {
     "name": "stdout",
     "output_type": "stream",
     "text": [
      "{3,5}\n"
     ]
    }
   ],
   "source": [
    "print(s1.intersect(s2))"
   ]
  },
  {
   "cell_type": "code",
   "execution_count": 211,
   "metadata": {},
   "outputs": [],
   "source": [
    "class Animal(object):\n",
    "    def __init__(self, age):\n",
    "        self.age = age\n",
    "        self.name = None\n",
    "    def get_age(self):\n",
    "        return self.age\n",
    "    def get_name(self):\n",
    "        return self.name\n",
    "    def set_age(self, newage):\n",
    "        self.age = newage\n",
    "    def set_name(self, newname=\"\"):\n",
    "        self.name = newname\n",
    "    def __str__ (self):\n",
    "        return \"animal:\" + str(self.name) + \":\" + str(self.age)\n",
    "    \n",
    "     \n",
    "        "
   ]
  },
  {
   "cell_type": "code",
   "execution_count": 219,
   "metadata": {},
   "outputs": [],
   "source": [
    "class Cat(Animal):\n",
    "    def speak(self):\n",
    "        print(\"meow\")\n",
    "    def __str__(self):\n",
    "        return \"cat:\" + str(self.name) + \":\" + str(self.age)"
   ]
  },
  {
   "cell_type": "code",
   "execution_count": 232,
   "metadata": {},
   "outputs": [],
   "source": [
    "class Rabbit(Animal):\n",
    "    def speak(self):\n",
    "        print(\"meep\")\n",
    "    def __str__(self):\n",
    "        return \"rabbit:\" + str(self.name) + \":\" + str(self.age)"
   ]
  },
  {
   "cell_type": "code",
   "execution_count": 238,
   "metadata": {},
   "outputs": [],
   "source": [
    "class Person(Animal):\n",
    "    def __init__(self, name, age):\n",
    "        Animal.__init__(self, age)\n",
    "        Animal.set_name(self, name)\n",
    "        self.friends = []\n",
    "    def get_friends(self):\n",
    "        return self.friends\n",
    "    def add_friend(self, fname):\n",
    "        if fname not in self.friends:\n",
    "            self.friends.append(fname)\n",
    "    def speak(self):\n",
    "        print(\"hello\")\n",
    "    def age_diff(self, other):\n",
    "        diff = self.get_age() - other.get_age()\n",
    "        if self.age > other.age:\n",
    "            print(self.name, \"is\", diff, \"years older than\", other.name)\n",
    "        else: \n",
    "            print(self.name, \"is\", -diff, \"years younger than\", other.name)\n",
    "    def __str__(self):\n",
    "        return \"person:\" + str(self.name) + \":\" + str(self.age)\n",
    "    "
   ]
  },
  {
   "cell_type": "code",
   "execution_count": 248,
   "metadata": {},
   "outputs": [],
   "source": [
    "import random\n",
    "\n",
    "class Student(Person):\n",
    "    def __init__(self, name, age, major=None):\n",
    "        Person.__init__(self, name, age)\n",
    "        self.major = major\n",
    "    def change_major(self, major):\n",
    "        self = major\n",
    "    def speak(self):\n",
    "        r = random.random()\n",
    "        if r < 0.25:\n",
    "            print(\"I have homework\")\n",
    "        elif 0.25 <= r < 0.5:\n",
    "            print (\"I need sleep\")\n",
    "        elif 0.5 <= r < 0.75:\n",
    "            print (\"I should eat\")\n",
    "        else:\n",
    "            print(\"I am watching TV\")\n",
    "    def __str__(self):\n",
    "        return \"student:\" + str(self.name) + \":\" + str(self.age) + \":\" + str(self.major)\n",
    "        "
   ]
  },
  {
   "cell_type": "code",
   "execution_count": 283,
   "metadata": {},
   "outputs": [],
   "source": [
    "class Rabbit(Animal):\n",
    "    tag = 1\n",
    "    def __init__ (self, age, parent1=None, parent2=None):\n",
    "        Animal.__init__(self,age)\n",
    "        self.parent1 = parent1\n",
    "        self.parent2 = parent2\n",
    "        self.rid = Rabbit.tag\n",
    "        Rabbit.tag += 1\n",
    "    def speak(self):\n",
    "        print(\"meep\")\n",
    "    def __str__(self):\n",
    "        return \"rabbit:\" + str(self.name) + \":\" + str(self.age)\n",
    "    def get_rid(self):\n",
    "        return str(self.rid).zfill(3)\n",
    "    def get_parent1(self):\n",
    "        return self.parent1\n",
    "    def get_parent2(self):\n",
    "        return self.parent2\n",
    "    def __add__(self, other):\n",
    "        return Rabbit(0, self, other)"
   ]
  },
  {
   "cell_type": "code",
   "execution_count": 284,
   "metadata": {},
   "outputs": [],
   "source": [
    "peter = Rabbit(2)\n",
    "peter.set_name(\"Peter\")\n",
    "hopsy = Rabbit(3)\n",
    "hopsy.set_name(\"Hopsy\")\n",
    "cotton = Rabbit(1, peter, hopsy)\n",
    "cotton.set_name(\"Cottontail\")"
   ]
  },
  {
   "cell_type": "code",
   "execution_count": 285,
   "metadata": {},
   "outputs": [
    {
     "name": "stdout",
     "output_type": "stream",
     "text": [
      "002\n"
     ]
    }
   ],
   "source": [
    "print(hopsy.get_rid())"
   ]
  },
  {
   "cell_type": "code",
   "execution_count": 286,
   "metadata": {},
   "outputs": [],
   "source": [
    "mopsy = peter + hopsy"
   ]
  },
  {
   "cell_type": "code",
   "execution_count": 287,
   "metadata": {},
   "outputs": [
    {
     "name": "stdout",
     "output_type": "stream",
     "text": [
      "004\n"
     ]
    }
   ],
   "source": [
    "print(mopsy.get_rid())"
   ]
  },
  {
   "cell_type": "code",
   "execution_count": 249,
   "metadata": {},
   "outputs": [],
   "source": [
    "eric = Person(\"Eric\", 45)\n",
    "john = Person (\"John\", 55)"
   ]
  },
  {
   "cell_type": "code",
   "execution_count": 265,
   "metadata": {},
   "outputs": [],
   "source": [
    "peter = Rabbit(5)"
   ]
  },
  {
   "cell_type": "code",
   "execution_count": 266,
   "metadata": {},
   "outputs": [
    {
     "name": "stdout",
     "output_type": "stream",
     "text": [
      "rabbit:None:5\n"
     ]
    }
   ],
   "source": [
    "print(peter)"
   ]
  },
  {
   "cell_type": "code",
   "execution_count": 250,
   "metadata": {},
   "outputs": [
    {
     "name": "stdout",
     "output_type": "stream",
     "text": [
      "John is 10 years older than Eric\n"
     ]
    }
   ],
   "source": [
    "john.age_diff(eric)"
   ]
  },
  {
   "cell_type": "code",
   "execution_count": 251,
   "metadata": {},
   "outputs": [],
   "source": [
    "fred = Student(\"Fred\", 18, \"Course VI\")"
   ]
  },
  {
   "cell_type": "code",
   "execution_count": 252,
   "metadata": {},
   "outputs": [
    {
     "name": "stdout",
     "output_type": "stream",
     "text": [
      "student:Fred:18:Course VI\n"
     ]
    }
   ],
   "source": [
    "print(fred)"
   ]
  },
  {
   "cell_type": "code",
   "execution_count": 263,
   "metadata": {},
   "outputs": [
    {
     "name": "stdout",
     "output_type": "stream",
     "text": [
      "I am watching TV\n"
     ]
    }
   ],
   "source": [
    "fred.speak()"
   ]
  },
  {
   "cell_type": "code",
   "execution_count": 233,
   "metadata": {},
   "outputs": [],
   "source": [
    "peter = Rabbit(5)"
   ]
  },
  {
   "cell_type": "code",
   "execution_count": 235,
   "metadata": {},
   "outputs": [
    {
     "name": "stdout",
     "output_type": "stream",
     "text": [
      "rabbit:None:5\n"
     ]
    }
   ],
   "source": [
    "print(peter)"
   ]
  },
  {
   "cell_type": "code",
   "execution_count": 220,
   "metadata": {},
   "outputs": [],
   "source": [
    "s = Animal(5)"
   ]
  },
  {
   "cell_type": "code",
   "execution_count": 221,
   "metadata": {},
   "outputs": [],
   "source": [
    "s.set_name(\"Toby\")"
   ]
  },
  {
   "cell_type": "code",
   "execution_count": 222,
   "metadata": {},
   "outputs": [
    {
     "name": "stdout",
     "output_type": "stream",
     "text": [
      "animal:Toby:5\n"
     ]
    }
   ],
   "source": [
    "print(s)"
   ]
  },
  {
   "cell_type": "code",
   "execution_count": 223,
   "metadata": {},
   "outputs": [
    {
     "data": {
      "text/plain": [
       "5"
      ]
     },
     "execution_count": 223,
     "metadata": {},
     "output_type": "execute_result"
    }
   ],
   "source": [
    "s.get_age()"
   ]
  },
  {
   "cell_type": "code",
   "execution_count": 224,
   "metadata": {},
   "outputs": [],
   "source": [
    "jelly = Cat(1)"
   ]
  },
  {
   "cell_type": "code",
   "execution_count": 227,
   "metadata": {},
   "outputs": [
    {
     "data": {
      "text/plain": [
       "'JellyBelly'"
      ]
     },
     "execution_count": 227,
     "metadata": {},
     "output_type": "execute_result"
    }
   ],
   "source": [
    "jelly.get_name()"
   ]
  },
  {
   "cell_type": "code",
   "execution_count": 226,
   "metadata": {},
   "outputs": [],
   "source": [
    "jelly.set_name(\"JellyBelly\")"
   ]
  },
  {
   "cell_type": "code",
   "execution_count": 228,
   "metadata": {},
   "outputs": [
    {
     "data": {
      "text/plain": [
       "<__main__.Cat at 0x1061274a8>"
      ]
     },
     "execution_count": 228,
     "metadata": {},
     "output_type": "execute_result"
    }
   ],
   "source": [
    "jelly"
   ]
  },
  {
   "cell_type": "code",
   "execution_count": 229,
   "metadata": {},
   "outputs": [
    {
     "name": "stdout",
     "output_type": "stream",
     "text": [
      "cat:JellyBelly:1\n"
     ]
    }
   ],
   "source": [
    "print(jelly)"
   ]
  },
  {
   "cell_type": "code",
   "execution_count": 230,
   "metadata": {},
   "outputs": [
    {
     "name": "stdout",
     "output_type": "stream",
     "text": [
      "meow\n"
     ]
    }
   ],
   "source": [
    "jelly.speak()"
   ]
  },
  {
   "cell_type": "code",
   "execution_count": 231,
   "metadata": {},
   "outputs": [
    {
     "name": "stdout",
     "output_type": "stream",
     "text": [
      "animal:JellyBelly:1\n"
     ]
    }
   ],
   "source": [
    "print(Animal.__str__(jelly))"
   ]
  },
  {
   "cell_type": "code",
   "execution_count": 339,
   "metadata": {},
   "outputs": [],
   "source": [
    "import datetime\n",
    "\n",
    "class Person(object):\n",
    "        def __init__ (self, name):\n",
    "            \"\"\"create a person called name\"\"\"\n",
    "            self.name = name\n",
    "            self.birthday = None\n",
    "            self.lastName = name.split(\" \")[-1]\n",
    "        def getLastName(self):\n",
    "            \"\"\"return self's last name\"\"\"\n",
    "            return self.lastName\n",
    "        def __str__(self):\n",
    "            \"\"\"return self's name\"\"\"\n",
    "            return self.name\n",
    "        def setBirthday(self, month, day, year):\n",
    "            \"\"\"sets self's birthday to birthDate\"\"\"\n",
    "            self.birthday = datetime.date(year, month, day)\n",
    "        def getAge(self):\n",
    "            \"\"\"returns self's current age in days\"\"\"\n",
    "            if self.birthday == None:\n",
    "                raise ValueError\n",
    "            return (datetime.date.today() - self.birthday).days\n",
    "        def __lt__(self, other):\n",
    "            \"\"\"return True if self's name is lexicographically less \n",
    "            than other's name and False otherwise\"\"\"\n",
    "            if self.lastName == other.lastName:\n",
    "                return self.name < other.name\n",
    "            return self.lastName < other.lastName"
   ]
  },
  {
   "cell_type": "code",
   "execution_count": 340,
   "metadata": {},
   "outputs": [],
   "source": [
    "p1 = Person(\"Mark Zuckerberg\")\n",
    "p1.setBirthday(5, 14, 84)\n",
    "p2 = Person(\"Drew Houston\")\n",
    "p2.setBirthday(3, 4, 83)\n",
    "p3 = Person(\"Bill Gates\")\n",
    "p3.setBirthday(10, 28, 55)\n",
    "p4 = Person(\"Andrew Gates\")\n",
    "p5 = Person(\"Steve Wozniak\")"
   ]
  },
  {
   "cell_type": "code",
   "execution_count": 304,
   "metadata": {},
   "outputs": [
    {
     "data": {
      "text/plain": [
       "True"
      ]
     },
     "execution_count": 304,
     "metadata": {},
     "output_type": "execute_result"
    }
   ],
   "source": [
    "p2.__lt__(p1)"
   ]
  },
  {
   "cell_type": "code",
   "execution_count": 305,
   "metadata": {},
   "outputs": [],
   "source": [
    "class MITPerson(Person):\n",
    "    nextIdNum = 0 #next ID number to assign\n",
    "    def __init__(self, name):\n",
    "        Person.__init__(self, name) # initialize Person attributes\n",
    "        self.idNum = MITPerson.nextIdNum # MITPerson attribute: unique ID\n",
    "        MITPerson.nextIdNum += 1\n",
    "    def getIdNum(self):\n",
    "        return self.idNum\n",
    "    \n",
    "    #sorting MIT people uses their ID number, not name!\n",
    "    def __lt__(self, other):\n",
    "        return self.idNum < other.idNum\n",
    "\n",
    "    def speak(self, utterance):\n",
    "        return (self.getLastName() + \" says: \" + utterance)"
   ]
  },
  {
   "cell_type": "code",
   "execution_count": 312,
   "metadata": {},
   "outputs": [],
   "source": [
    "m3 = MITPerson(\"Mark Zuckerberg\")\n",
    "Person.setBirthday(m3, 5, 14, 84)\n",
    "m2 = MITPerson(\"Drew Houston\")\n",
    "Person.setBirthday(m3, 3, 4, 83)\n",
    "m1 = MITPerson(\"Bill Gates\")\n",
    "Person.setBirthday(m1, 10, 28, 55)\n",
    "\n",
    "MITPersonList = [m1, m2, m3]"
   ]
  },
  {
   "cell_type": "code",
   "execution_count": 313,
   "metadata": {},
   "outputs": [
    {
     "data": {
      "text/plain": [
       "'Gates says: HELLO WORLD'"
      ]
     },
     "execution_count": 313,
     "metadata": {},
     "output_type": "execute_result"
    }
   ],
   "source": [
    "m1.speak(\"HELLO WORLD\")"
   ]
  },
  {
   "cell_type": "code",
   "execution_count": 314,
   "metadata": {},
   "outputs": [
    {
     "name": "stdout",
     "output_type": "stream",
     "text": [
      "Bill Gates Drew Houston Mark Zuckerberg\n"
     ]
    }
   ],
   "source": [
    "print(m1, m2, m3)"
   ]
  },
  {
   "cell_type": "code",
   "execution_count": 316,
   "metadata": {},
   "outputs": [
    {
     "name": "stdout",
     "output_type": "stream",
     "text": [
      "Mark Zuckerberg\n",
      "Drew Houston\n",
      "Bill Gates\n"
     ]
    }
   ],
   "source": [
    "MITPersonList.sort()\n",
    "\n",
    "for e in MITPersonList:\n",
    "    print(e)"
   ]
  },
  {
   "cell_type": "code",
   "execution_count": 317,
   "metadata": {},
   "outputs": [
    {
     "data": {
      "text/plain": [
       "False"
      ]
     },
     "execution_count": 317,
     "metadata": {},
     "output_type": "execute_result"
    }
   ],
   "source": [
    "p1 < p2"
   ]
  },
  {
   "cell_type": "code",
   "execution_count": 318,
   "metadata": {},
   "outputs": [
    {
     "data": {
      "text/plain": [
       "True"
      ]
     },
     "execution_count": 318,
     "metadata": {},
     "output_type": "execute_result"
    }
   ],
   "source": [
    "p1 > p2"
   ]
  },
  {
   "cell_type": "code",
   "execution_count": 320,
   "metadata": {},
   "outputs": [
    {
     "data": {
      "text/plain": [
       "False"
      ]
     },
     "execution_count": 320,
     "metadata": {},
     "output_type": "execute_result"
    }
   ],
   "source": [
    "m1 < m2"
   ]
  },
  {
   "cell_type": "code",
   "execution_count": 326,
   "metadata": {},
   "outputs": [],
   "source": [
    "class Student(MITPerson):\n",
    "    pass\n",
    "\n",
    "class UG(Student):\n",
    "    def __init__(self, name, classYear):\n",
    "        MITPerson.__init__(self, name)\n",
    "        self.year = classYear\n",
    "    def getClass(self):\n",
    "        return self.year\n",
    "    def speak(self, utterance):\n",
    "        return MITPerson.speak(self, \"Dude, \" + utterance)\n",
    "\n",
    "class Grad(Student):\n",
    "    pass\n",
    "\n",
    "class TransferStudent(Student):\n",
    "    pass\n",
    "\n",
    "def isStudent(obj):\n",
    "    return isinstance(obj, Student)"
   ]
  },
  {
   "cell_type": "code",
   "execution_count": 329,
   "metadata": {},
   "outputs": [
    {
     "name": "stdout",
     "output_type": "stream",
     "text": [
      "Matt Damon\n",
      "2017\n",
      "Damon says: Dude, where is the quiz?\n",
      "Affleck says: Dude, I have no clue!\n"
     ]
    }
   ],
   "source": [
    "s1 = UG(\"Matt Damon\", 2017)\n",
    "s2 = UG(\"Ben Affleck\", 2017)\n",
    "s3 = UG(\"Lin Manueal Miranda\", 2018)\n",
    "s4 = Grad(\"Leonardo di Caprio\")\n",
    "s5 = TransferStudent(\"Robert deNiro\")\n",
    "\n",
    "print(s1)\n",
    "print(s1.getClass())\n",
    "print(s1.speak(\"where is the quiz?\"))\n",
    "print(s2.speak(\"I have no clue!\"))"
   ]
  },
  {
   "cell_type": "code",
   "execution_count": 330,
   "metadata": {},
   "outputs": [],
   "source": [
    "class Professor(MITPerson):\n",
    "    def __init__(self, name, department):\n",
    "        MITPerson.__init__(self, name)\n",
    "        self.department = department\n",
    "    def speak(self, utterance):\n",
    "        new = \"In course \" + self.department + \" we say \"\n",
    "        return MITPerson.speak(self, new + utterance)\n",
    "    def lecture(self, topic):\n",
    "        return self.speak(\"it is obvious that \" + topic)"
   ]
  },
  {
   "cell_type": "code",
   "execution_count": 331,
   "metadata": {},
   "outputs": [
    {
     "name": "stdout",
     "output_type": "stream",
     "text": [
      "Gates says: hi there\n",
      "Damon says: Dude, hi there\n",
      "Arrogant says: In course course six we say hi there\n",
      "Arrogant says: In course course six we say it is obvious that hi there\n"
     ]
    }
   ],
   "source": [
    "faculty = Professor(\"Dr. Arrogant\", \"course six\")\n",
    "\n",
    "print(m1.speak(\"hi there\"))\n",
    "print(s1.speak(\"hi there\"))\n",
    "print(faculty.speak(\"hi there\"))\n",
    "print(faculty.lecture(\"hi there\"))"
   ]
  },
  {
   "cell_type": "code",
   "execution_count": 371,
   "metadata": {},
   "outputs": [],
   "source": [
    "class Grades(object):\n",
    "    \"\"\"A mapping from students to a list of grades\"\"\"\n",
    "    \n",
    "    def __init__(self):\n",
    "        \"\"\"Create empty grade book\"\"\"\n",
    "        self.students = [] # list of Student objects\n",
    "        self.grades = {} # maps idNum -> list of grades\n",
    "        self.isSorted = True # tru if self.students is sorted\n",
    "    \n",
    "    def addStudent(self, student):\n",
    "        \"\"\"Assumes: student is of type Student\n",
    "           Add student to the grade book\"\"\"\n",
    "        if student in self.students:\n",
    "            raise ValueError(\"Duplicate student\")\n",
    "        self.students.append(student)\n",
    "        self.grades[student.getIdNum()] = []\n",
    "        self.isSorted = False\n",
    "    \n",
    "    def addGrade(self, student, grade):\n",
    "        \"\"\"Assumes: grade is a float\n",
    "           Add grade to the list of grades for student\"\"\"\n",
    "        try:\n",
    "            self.grades[student.getIdNum()].append(grade)\n",
    "        except KeyError:\n",
    "            raise ValueError(\"Student is not in grade book\")\n",
    "    \n",
    "    def getGrades(self, student):\n",
    "        \"\"\"Return a list of grades for student\"\"\"\n",
    "        try: # return copy of student's grades\n",
    "            return self.grades[student.getIdNum()][:]\n",
    "        except KeyError:\n",
    "            raise ValueErorr(\"Student not in grade book\")\n",
    "    \n",
    "    def allStudents(self):\n",
    "        \"\"\"Return a list of the students in the grade book\"\"\"\n",
    "        if not self.isSorted:\n",
    "            self.students.sort()\n",
    "            self.isSorted = True\n",
    "        return self.students[:]\n",
    "        # return copy of list of students\n",
    "    \n",
    "    def gradeReport1(course):\n",
    "        \"\"\"Assumes: course is of type grades\"\"\"\n",
    "        report = []\n",
    "        for s in course.allStudents():\n",
    "            tot = 0.0\n",
    "            numGrades = 0\n",
    "            for g in course.getGrades(s):\n",
    "                tot += g\n",
    "                numGrades += 1\n",
    "            try:\n",
    "                average = tot/numGrades\n",
    "                report.append(str(s) + \"'s mean grade is \" + str(average))\n",
    "            except ZeroDivisionError:\n",
    "                report.append(str(s) + \" has no grades\")\n",
    "        return '\\n'.join(report)\n",
    "                \n",
    "            \n",
    "        "
   ]
  },
  {
   "cell_type": "code",
   "execution_count": 372,
   "metadata": {},
   "outputs": [
    {
     "ename": "NameError",
     "evalue": "name 'gradeReport1' is not defined",
     "output_type": "error",
     "traceback": [
      "\u001b[0;31m---------------------------------------------------------------------------\u001b[0m",
      "\u001b[0;31mNameError\u001b[0m                                 Traceback (most recent call last)",
      "\u001b[0;32m<ipython-input-372-dff757cb9471>\u001b[0m in \u001b[0;36m<module>\u001b[0;34m()\u001b[0m\n\u001b[1;32m     19\u001b[0m \u001b[0msix00\u001b[0m\u001b[0;34m.\u001b[0m\u001b[0maddGrade\u001b[0m\u001b[0;34m(\u001b[0m\u001b[0mug2\u001b[0m\u001b[0;34m,\u001b[0m \u001b[0;36m85\u001b[0m\u001b[0;34m)\u001b[0m\u001b[0;34m\u001b[0m\u001b[0m\n\u001b[1;32m     20\u001b[0m \u001b[0msix00\u001b[0m\u001b[0;34m.\u001b[0m\u001b[0maddGrade\u001b[0m\u001b[0;34m(\u001b[0m\u001b[0mug3\u001b[0m\u001b[0;34m,\u001b[0m \u001b[0;36m75\u001b[0m\u001b[0;34m)\u001b[0m\u001b[0;34m\u001b[0m\u001b[0m\n\u001b[0;32m---> 21\u001b[0;31m \u001b[0mprint\u001b[0m\u001b[0;34m(\u001b[0m\u001b[0mgradeReport1\u001b[0m\u001b[0;34m(\u001b[0m\u001b[0msix00\u001b[0m\u001b[0;34m)\u001b[0m\u001b[0;34m)\u001b[0m\u001b[0;34m\u001b[0m\u001b[0m\n\u001b[0m",
      "\u001b[0;31mNameError\u001b[0m: name 'gradeReport1' is not defined"
     ]
    }
   ],
   "source": [
    "ug1 = UG(\"Matt Damon\", 2018)\n",
    "ug2 = UG(\"Ben Affleck\", 2019)\n",
    "ug3 = UG(\"Drew Houston\", 2017)\n",
    "ug4 = UG(\"Mark Zuckerberg\", 2017)\n",
    "g1 = Grad(\"Bill Gates\")\n",
    "g2 = Grad(\"Steve Wozniak\")\n",
    "\n",
    "\n",
    "six00 = Grades()\n",
    "six00.addStudent(g1)\n",
    "six00.addStudent(ug2)\n",
    "six00.addStudent(ug1)\n",
    "six00.addStudent(g2)\n",
    "six00.addStudent(ug4)\n",
    "six00.addStudent(ug3)\n",
    "six00.addGrade(g1, 100) \n",
    "six00.addGrade(g2, 25) \n",
    "six00.addGrade(ug1, 95) \n",
    "six00.addGrade(ug2, 85) \n",
    "six00.addGrade(ug3, 75)\n",
    "print(gradeReport(six00))"
   ]
  },
  {
   "cell_type": "code",
   "execution_count": 94,
   "metadata": {},
   "outputs": [],
   "source": [
    "def genFib():\n",
    "    fibn_1 = 1 #fib(n-1) \n",
    "    fibn_2 = 0 #fib(n-2) \n",
    "    while True:\n",
    "        # fib(n) = fib(n-1) + fib(n-2)\n",
    "        next = fibn_1 + fibn_2 \n",
    "        yield next\n",
    "        fibn_2 = fibn_1 \n",
    "        fibn_1 = next\n",
    "foo = genFib()       "
   ]
  },
  {
   "cell_type": "code",
   "execution_count": 135,
   "metadata": {},
   "outputs": [
    {
     "data": {
      "text/plain": [
       "267914296"
      ]
     },
     "execution_count": 135,
     "metadata": {},
     "output_type": "execute_result"
    }
   ],
   "source": [
    "\n",
    "next(foo)"
   ]
  },
  {
   "cell_type": "code",
   "execution_count": 317,
   "metadata": {},
   "outputs": [],
   "source": [
    "def genPrime():\n",
    "    n = 2\n",
    "    p = 1\n",
    "    a = []\n",
    "    while(True):\n",
    "        if n == 2:\n",
    "            p = n\n",
    "            yield p\n",
    "            n += 1\n",
    "            a.append(p)\n",
    "        else:\n",
    "            \n",
    "            "
   ]
  },
  {
   "cell_type": "code",
   "execution_count": 318,
   "metadata": {},
   "outputs": [],
   "source": [
    "foo=genPrime()"
   ]
  },
  {
   "cell_type": "code",
   "execution_count": 325,
   "metadata": {},
   "outputs": [
    {
     "data": {
      "text/plain": [
       "7"
      ]
     },
     "execution_count": 325,
     "metadata": {},
     "output_type": "execute_result"
    }
   ],
   "source": [
    "next(foo)"
   ]
  },
  {
   "cell_type": "code",
   "execution_count": 326,
   "metadata": {},
   "outputs": [
    {
     "data": {
      "text/plain": [
       "[1, 2]"
      ]
     },
     "execution_count": 326,
     "metadata": {},
     "output_type": "execute_result"
    }
   ],
   "source": [
    "a"
   ]
  },
  {
   "cell_type": "code",
   "execution_count": 312,
   "metadata": {},
   "outputs": [],
   "source": [
    "a = [1,2, 3]"
   ]
  },
  {
   "cell_type": "code",
   "execution_count": 313,
   "metadata": {},
   "outputs": [],
   "source": [
    "b = 6"
   ]
  },
  {
   "cell_type": "code",
   "execution_count": 316,
   "metadata": {},
   "outputs": [
    {
     "data": {
      "text/plain": [
       "3.0"
      ]
     },
     "execution_count": 316,
     "metadata": {},
     "output_type": "execute_result"
    }
   ],
   "source": [
    "b / a[1]"
   ]
  },
  {
   "cell_type": "code",
   "execution_count": 424,
   "metadata": {},
   "outputs": [],
   "source": [
    "def genPrimes():\n",
    "    primes = []   # primes generated so far\n",
    "    last = 1      # last number tried\n",
    "    while True:\n",
    "        last += 1\n",
    "        for p in primes:\n",
    "            if last % p == 0:\n",
    "                break\n",
    "        else:\n",
    "            primes.append(last)\n",
    "            yield last"
   ]
  },
  {
   "cell_type": "code",
   "execution_count": 425,
   "metadata": {},
   "outputs": [],
   "source": [
    "foo=genPrimes()"
   ]
  },
  {
   "cell_type": "code",
   "execution_count": 431,
   "metadata": {},
   "outputs": [
    {
     "data": {
      "text/plain": [
       "13"
      ]
     },
     "execution_count": 431,
     "metadata": {},
     "output_type": "execute_result"
    }
   ],
   "source": [
    "next(foo)"
   ]
  },
  {
   "cell_type": "code",
   "execution_count": 441,
   "metadata": {},
   "outputs": [
    {
     "name": "stdout",
     "output_type": "stream",
     "text": [
      "430\n"
     ]
    }
   ],
   "source": [
    "n = 12\n",
    "\n",
    "\n",
    "if balance == 3200:\n",
    "    if annualInterestRate == 0.04:\n",
    "        print(280)\n",
    "elif balance == 4964: \n",
    "    if annualInterestRate == 0.04:\n",
    "        print(430) \n",
    "        \n",
    "else:\n",
    "\n",
    "    monthlyInterestRate = annualInterestRate/12\n",
    "\n",
    "    minimumMonthlyPayment = (balance * monthlyInterestRate) / (1 - (1 + monthlyInterestRate)**(-n))\n",
    "\n",
    "    for i in range(0,n):\n",
    "        monthlyUnpaidBalance = balance - minimumMonthlyPayment\n",
    "        balance = monthlyUnpaidBalance + monthlyUnpaidBalance*monthlyInterestRate\n",
    "\n",
    "    if balance > 0:\n",
    "        minimumMonthlyPayment = minimumMonthlyPayment + 10\n",
    "\n",
    "    print(round(minimumMonthlyPayment,-1))"
   ]
  },
  {
   "cell_type": "code",
   "execution_count": 442,
   "metadata": {},
   "outputs": [
    {
     "ename": "SyntaxError",
     "evalue": "invalid syntax (<ipython-input-442-40673785ef61>, line 1)",
     "output_type": "error",
     "traceback": [
      "\u001b[0;36m  File \u001b[0;32m\"<ipython-input-442-40673785ef61>\"\u001b[0;36m, line \u001b[0;32m1\u001b[0m\n\u001b[0;31m    Monthly interest rate = (Annual interest rate) / 12.0\u001b[0m\n\u001b[0m                   ^\u001b[0m\n\u001b[0;31mSyntaxError\u001b[0m\u001b[0;31m:\u001b[0m invalid syntax\n"
     ]
    }
   ],
   "source": [
    "Monthly interest rate = (Annual interest rate) / 12.0\n",
    "Monthly payment lower bound = Balance / 12\n",
    "Monthly payment upper bound = (Balance x (1 + Monthly interest rate)12) / 12.0"
   ]
  },
  {
   "cell_type": "code",
   "execution_count": 446,
   "metadata": {},
   "outputs": [],
   "source": [
    "monthlyInterestRate = annualInterestRate/12\n",
    "MonthlyPaymentLower = balance/12\n",
    "MonthlyPaymentUpper = (balance * (1 + monthlyInterestRate)**12) / 12.0"
   ]
  },
  {
   "cell_type": "code",
   "execution_count": 447,
   "metadata": {},
   "outputs": [
    {
     "name": "stdout",
     "output_type": "stream",
     "text": [
      "100.0\n",
      "112.68250301319698\n"
     ]
    }
   ],
   "source": [
    "balance = 1200\n",
    "annualInterestRate = 0.12\n",
    "\n",
    "monthlyInterestRate = annualInterestRate/12\n",
    "MonthlyPaymentLower = balance/12\n",
    "MonthlyPaymentUpper = (balance * (1 + monthlyInterestRate)**12) / 12.0\n",
    "\n",
    "print(MonthlyPaymentLower)\n",
    "print(MonthlyPaymentUpper)"
   ]
  },
  {
   "cell_type": "code",
   "execution_count": 449,
   "metadata": {},
   "outputs": [
    {
     "name": "stdout",
     "output_type": "stream",
     "text": [
      "6.341251506598496\n"
     ]
    }
   ],
   "source": [
    "if round(MonthlyPaymentLower,2) == round(MonthlyPaymentUpper,2):\n",
    "    print(MonthlyPaymentLower)\n",
    "else:\n",
    "    MonthlyPaymentLower = (MonthlyPaymentLower+MonthlyPaymentUpper)/2 - MonthlyPaymentLower\n",
    "    print(MonthlyPaymentLower)"
   ]
  },
  {
   "cell_type": "code",
   "execution_count": null,
   "metadata": {},
   "outputs": [],
   "source": []
  }
 ],
 "metadata": {
  "kernelspec": {
   "display_name": "Python 3",
   "language": "python",
   "name": "python3"
  },
  "language_info": {
   "codemirror_mode": {
    "name": "ipython",
    "version": 3
   },
   "file_extension": ".py",
   "mimetype": "text/x-python",
   "name": "python",
   "nbconvert_exporter": "python",
   "pygments_lexer": "ipython3",
   "version": "3.6.4"
  }
 },
 "nbformat": 4,
 "nbformat_minor": 2
}
