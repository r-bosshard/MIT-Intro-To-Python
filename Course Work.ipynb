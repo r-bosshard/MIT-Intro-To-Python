{
 "cells": [
  {
   "cell_type": "code",
   "execution_count": null,
   "metadata": {},
   "outputs": [],
   "source": [
    "#Lecture 1"
   ]
  },
  {
   "cell_type": "code",
   "execution_count": null,
   "metadata": {},
   "outputs": [],
   "source": [
    "#Problem set 1\n",
    "\n",
    "vowel = [\"a\", \"e\", \"i\", \"o\", \"u\"]\n",
    "s = \"azcbboobeggheeeeezzzeeakl\"\n",
    "vowel_count = 0\n",
    "\n",
    "for x in vowel:\n",
    "    for b in s:\n",
    "        if x == b:            \n",
    "            vowel_count = vowel_count + 1\n",
    "\n",
    "print(\"Number of vowels: {0}\".format(vowel_count))"
   ]
  },
  {
   "cell_type": "code",
   "execution_count": null,
   "metadata": {},
   "outputs": [],
   "source": [
    "#Problem set 2\n",
    "\n",
    "bob = \"bob\"\n",
    "s = \"azcbobobobkl\"\n",
    "bob_count = 0\n",
    "char = len(s)-2\n",
    "\n",
    "for b in range(0,char):\n",
    "    if bob == s[b:b+3]:            \n",
    "        bob_count = bob_count + 1\n",
    "\n",
    "print(\"Number of times bob occurs is: {0}\".format(bob_count))"
   ]
  },
  {
   "cell_type": "code",
   "execution_count": null,
   "metadata": {},
   "outputs": [],
   "source": [
    "#Problem set 3\n",
    "\n",
    "alpha = \"abcdefghijklmnopqrstuvwxyz\"\n",
    "alpha_dict = {}\n",
    "b = 0\n",
    "substring_dict = {}\n",
    "\n",
    "for a in alpha:\n",
    "    alpha_dict[b] = a\n",
    "    b = b + 1\n",
    "\n",
    "s = 'abcdefghijklmnopqrstuvwxyz'\n",
    "e = []\n",
    "\n",
    "s = s + \"a\"\n",
    "\n",
    "for c in range (0, len(s)):\n",
    "    e = []\n",
    "    d = c\n",
    "    try:\n",
    "        while list(alpha_dict.keys())[list(alpha_dict.values()).index(s[d])] <= list(alpha_dict.keys())[list(alpha_dict.values()).index(s[d+1])]:\n",
    "            e += s[d]\n",
    "            d = d + 1\n",
    "        e += s[d]\n",
    "        substring_dict[c] = e\n",
    "    except:\n",
    "        f = 0\n",
    "\n",
    "b = 0\n",
    "z=0\n",
    "for a in substring_dict.keys():\n",
    "    c = max(len(substring_dict[a]), b)\n",
    "    if c > b:\n",
    "        z = a\n",
    "    else:\n",
    "        z = z\n",
    "    b = c\n",
    "print(\"Longest substring in alphabetical order is:\", \"\".join(substring_dict[z]))        "
   ]
  },
  {
   "cell_type": "code",
   "execution_count": 24,
   "metadata": {
    "hide_input": true,
    "slideshow": {
     "slide_type": "-"
    }
   },
   "outputs": [],
   "source": [
    "def soccer_trivia():\n",
    "    \n",
    "    y = \"Y\"\n",
    "    while y == \"Y\":\n",
    "        x = input(\"How many times has Brazil won? \")\n",
    "        while x != \"10\":\n",
    "            if x == \"help\":\n",
    "                print(\"Take a look at Fifa.com\")\n",
    "            else:\n",
    "                print(\"Try again!\")\n",
    "            x = input(\"How many times has Brazil won? \")        \n",
    "        print(\"You are correct!\")\n",
    "        y = input(\"Do you want to play again (Y/N)? \")\n",
    "    print(\"Thanks for playing!\")    "
   ]
  },
  {
   "cell_type": "code",
   "execution_count": 27,
   "metadata": {},
   "outputs": [
    {
     "name": "stdout",
     "output_type": "stream",
     "text": [
      "How many times has Brazil won? 10\n",
      "You are correct!\n",
      "Do you want to play again (Y/N)? \n",
      "Thanks for playing!\n"
     ]
    }
   ],
   "source": [
    "soccer_trivia()"
   ]
  },
  {
   "cell_type": "code",
   "execution_count": 39,
   "metadata": {},
   "outputs": [],
   "source": [
    "def cube_root_iterative():\n",
    "\n",
    "    cube = int(input(\"What number do you want to know the cube root of? \"))\n",
    "    epsilon = 0.01\n",
    "    guess = 0.0\n",
    "    increment = 0.0001\n",
    "    num_guesses = 0\n",
    "    while abs(guess**3-cube)>=epsilon and guess**3<=cube+epsilon:\n",
    "        guess += increment \n",
    "        num_guesses += 1\n",
    "    print('num_guesses = ',num_guesses)\n",
    "    if abs(guess**3-cube)>=epsilon:\n",
    "        print('Failed on cube root of', cube)   \n",
    "    else:\n",
    "        print(guess, 'is close to the cube root of', cube) "
   ]
  },
  {
   "cell_type": "code",
   "execution_count": 48,
   "metadata": {
    "scrolled": true
   },
   "outputs": [
    {
     "name": "stdout",
     "output_type": "stream",
     "text": [
      "What number do you want to know the cube root of? 1728\n",
      "num_guesses =  120000\n",
      "11.999999999985372 is close to the cube root of 1728\n"
     ]
    }
   ],
   "source": [
    "cube_root_iterative()"
   ]
  },
  {
   "cell_type": "code",
   "execution_count": 57,
   "metadata": {},
   "outputs": [],
   "source": [
    "def cube_root_bisection():\n",
    "\n",
    "    cube = int(input(\"What number do you want to know the cube root of? \"))\n",
    "    epsilon = 0.01\n",
    "    guess = 0.0\n",
    "    increment = 0.0001\n",
    "    num_guesses = 0\n",
    "    low = 0\n",
    "    high = cube\n",
    "    \n",
    "    ans = (high + low)/2.0\n",
    "    \n",
    "    while abs(ans**3-cube)>=epsilon:\n",
    "        num_guesses += 1\n",
    "        if ans**3 < cube:\n",
    "            low = ans\n",
    "        else:\n",
    "            high = ans\n",
    "        ans = (high + low)/2.0\n",
    "   \n",
    "    \n",
    "    print(ans, 'is close to the cube root of', cube) \n",
    "    print('num_guesses = ',num_guesses)"
   ]
  },
  {
   "cell_type": "code",
   "execution_count": 58,
   "metadata": {},
   "outputs": [
    {
     "name": "stdout",
     "output_type": "stream",
     "text": [
      "What number do you want to know the cube root of? 1728\n",
      "12.000005722045898 is close to the cube root of 1728\n",
      "num_guesses =  24\n"
     ]
    }
   ],
   "source": [
    "cube_root_bisection()"
   ]
  },
  {
   "cell_type": "code",
   "execution_count": 98,
   "metadata": {},
   "outputs": [
    {
     "name": "stdout",
     "output_type": "stream",
     "text": [
      "Please think of a number between 0 and 100! \n",
      "Is your secret number 50?\n",
      "Enter 'h' to indicate the guess is too high. Enter 'l' to indicate the guess is too low. Enter 'c' to indicate I guessed correctly.l\n",
      "Is your secret number 75?\n",
      "Enter 'h' to indicate the guess is too high. Enter 'l' to indicate the guess is too low. Enter 'c' to indicate I guessed correctly.y\n",
      "Sorry, I did not understand your input.\n",
      "Is your secret number 75?\n",
      "Enter 'h' to indicate the guess is too high. Enter 'l' to indicate the guess is too low. Enter 'c' to indicate I guessed correctly.c\n",
      "Game over. Your secret number was: 75\n"
     ]
    }
   ],
   "source": [
    "print(\"Please think of a number between 0 and 100! \")\n",
    "\n",
    "ans = 50\n",
    "high = 100\n",
    "low = 0\n",
    "a = \"b\"\n",
    "\n",
    "while a != \"c\":\n",
    "    print(\"Is your secret number {0}?\".format(ans))   \n",
    "    a = str(input(\"Enter 'h' to indicate the guess is too high. Enter 'l' to indicate the guess is too low. Enter 'c' to indicate I guessed correctly.\"))\n",
    "\n",
    "    if a == \"h\":\n",
    "        high = ans\n",
    "    elif a == \"l\":\n",
    "        low = ans\n",
    "    elif a == \"c\":\n",
    "        break\n",
    "    else:\n",
    "        print(\"Sorry, I did not understand your input.\")\n",
    "\n",
    "    ans = int((high + low)/2)  \n",
    "        \n",
    "print(\"Game over. Your secret number was: {0}\".format(ans))  \n"
   ]
  },
  {
   "cell_type": "code",
   "execution_count": 99,
   "metadata": {},
   "outputs": [
    {
     "name": "stdout",
     "output_type": "stream",
     "text": [
      "Please think of a number between 0 and 100!\n",
      "Is your secret number 50?\n",
      "Enter 'h' to indicate the guess is too high. Enter 'l' to indicate the guess is too low. Enter 'c' to indicate I guessed correctly. l\n",
      "Is your secret number 75?\n",
      "Enter 'h' to indicate the guess is too high. Enter 'l' to indicate the guess is too low. Enter 'c' to indicate I guessed correctly. a\n",
      "Sorry, I did not understand your input.\n",
      "Is your secret number 75?\n",
      "Enter 'h' to indicate the guess is too high. Enter 'l' to indicate the guess is too low. Enter 'c' to indicate I guessed correctly. h\n",
      "Is your secret number 62?\n",
      "Enter 'h' to indicate the guess is too high. Enter 'l' to indicate the guess is too low. Enter 'c' to indicate I guessed correctly. h\n",
      "Is your secret number 56?\n",
      "Enter 'h' to indicate the guess is too high. Enter 'l' to indicate the guess is too low. Enter 'c' to indicate I guessed correctly. l\n",
      "Is your secret number 59?\n",
      "Enter 'h' to indicate the guess is too high. Enter 'l' to indicate the guess is too low. Enter 'c' to indicate I guessed correctly. c\n",
      "Game over. Your secret number was: 59\n"
     ]
    }
   ],
   "source": [
    "print(\"Please think of a number between 0 and 100!\")\n",
    "\n",
    "# At the start the highest the number could be is 100 and the lowest is 0.\n",
    "hi = 100\n",
    "lo = 0\n",
    "guessed = False\n",
    "\n",
    "# Loop until we guess it correctly\n",
    "while not guessed:\n",
    "    # Bisection search: guess the midpoint between our current high and low guesses\n",
    "    guess = (hi + lo)//2\n",
    "    print(\"Is your secret number \" + str(guess)+ \"?\")\n",
    "    user_inp = input(\"Enter 'h' to indicate the guess is too high. Enter 'l' to indicate the guess is too low. Enter 'c' to indicate I guessed correctly. \")\n",
    "\n",
    "    if user_inp == 'c':\n",
    "        # We got it right!\n",
    "        guessed = True\n",
    "    elif user_inp == 'h':\n",
    "        # Guess was too high. So make the current guess the highest possible guess.\n",
    "        hi = guess\n",
    "    elif user_inp == 'l':\n",
    "        # Guess was too low. So make the current guess the lowest possible guess.\n",
    "        lo = guess\n",
    "    else:\n",
    "        print(\"Sorry, I did not understand your input.\")\n",
    "\n",
    "print('Game over. Your secret number was: ' + str(guess))"
   ]
  },
  {
   "cell_type": "code",
   "execution_count": 101,
   "metadata": {},
   "outputs": [
    {
     "data": {
      "text/plain": [
       "'HELLOOOO'"
      ]
     },
     "execution_count": 101,
     "metadata": {},
     "output_type": "execute_result"
    }
   ],
   "source": [
    "a = \"helloooo\"\n",
    "a.swapcase()"
   ]
  },
  {
   "cell_type": "code",
   "execution_count": 109,
   "metadata": {},
   "outputs": [
    {
     "data": {
      "text/plain": [
       "'hell****'"
      ]
     },
     "execution_count": 109,
     "metadata": {},
     "output_type": "execute_result"
    }
   ],
   "source": [
    "a.replace(\"o\",\"*\")"
   ]
  },
  {
   "cell_type": "code",
   "execution_count": 110,
   "metadata": {},
   "outputs": [],
   "source": [
    "def mult(a,b):\n",
    "    if b == 1:\n",
    "        return a\n",
    "    else:\n",
    "        return a + mult(a,b-1)"
   ]
  },
  {
   "cell_type": "code",
   "execution_count": 112,
   "metadata": {},
   "outputs": [
    {
     "data": {
      "text/plain": [
       "15"
      ]
     },
     "execution_count": 112,
     "metadata": {},
     "output_type": "execute_result"
    }
   ],
   "source": [
    "mult(5,3)"
   ]
  },
  {
   "cell_type": "code",
   "execution_count": 114,
   "metadata": {},
   "outputs": [],
   "source": [
    "def factorial(n):\n",
    "    if n == 1:\n",
    "        return 1\n",
    "    else:\n",
    "        return n*factorial(n-1)"
   ]
  },
  {
   "cell_type": "code",
   "execution_count": 118,
   "metadata": {},
   "outputs": [
    {
     "data": {
      "text/plain": [
       "362880"
      ]
     },
     "execution_count": 118,
     "metadata": {},
     "output_type": "execute_result"
    }
   ],
   "source": [
    "factorial(9)"
   ]
  },
  {
   "cell_type": "code",
   "execution_count": 124,
   "metadata": {},
   "outputs": [],
   "source": [
    "def recurPower(base, exp):\n",
    "    '''\n",
    "    base: int or float.\n",
    "    exp: int >= 0\n",
    " \n",
    "    returns: int or float, base^exp\n",
    "    '''\n",
    "    if exp == 0:\n",
    "        return 1\n",
    "    else:\n",
    "        return base*recurPower(base, exp-1)"
   ]
  },
  {
   "cell_type": "code",
   "execution_count": 125,
   "metadata": {},
   "outputs": [
    {
     "data": {
      "text/plain": [
       "32"
      ]
     },
     "execution_count": 125,
     "metadata": {},
     "output_type": "execute_result"
    }
   ],
   "source": [
    "recurPower(2, 5)"
   ]
  },
  {
   "cell_type": "code",
   "execution_count": 128,
   "metadata": {},
   "outputs": [],
   "source": [
    "def iterPower(base, exp):\n",
    "    '''\n",
    "    base: int or float.\n",
    "    exp: int >= 0\n",
    " \n",
    "    returns: int or float, base^exp\n",
    "    '''\n",
    "    ans = 1\n",
    "    for i in range(exp):\n",
    "        ans = ans*base\n",
    "    return ans"
   ]
  },
  {
   "cell_type": "code",
   "execution_count": 133,
   "metadata": {},
   "outputs": [
    {
     "data": {
      "text/plain": [
       "32"
      ]
     },
     "execution_count": 133,
     "metadata": {},
     "output_type": "execute_result"
    }
   ],
   "source": [
    "iterPower(2, 5)"
   ]
  },
  {
   "cell_type": "code",
   "execution_count": 136,
   "metadata": {},
   "outputs": [],
   "source": [
    "def gcdIter(a, b):\n",
    "    '''\n",
    "    a, b: positive integers\n",
    "    \n",
    "    returns: a positive integer, the greatest common divisor of a & b.\n",
    "    '''\n",
    "    gcd = a\n",
    "    \n",
    "    while b % gcd != 0 or a % gcd !=0:\n",
    "        gcd = gcd - 1\n",
    "    return gcd "
   ]
  },
  {
   "cell_type": "code",
   "execution_count": 138,
   "metadata": {},
   "outputs": [
    {
     "data": {
      "text/plain": [
       "5"
      ]
     },
     "execution_count": 138,
     "metadata": {},
     "output_type": "execute_result"
    }
   ],
   "source": [
    "gcdIter(65, 255)"
   ]
  },
  {
   "cell_type": "code",
   "execution_count": 139,
   "metadata": {},
   "outputs": [],
   "source": [
    "def gcdRecur(a, b):\n",
    "    '''\n",
    "    a, b: positive integers\n",
    "    \n",
    "    returns: a positive integer, the greatest common divisor of a & b.\n",
    "    '''\n",
    "    # Base case is when b = 0\n",
    "    if b == 0:\n",
    "        return a\n",
    "\n",
    "    # Recursive case\n",
    "    return gcdRecur(b, a % b)"
   ]
  },
  {
   "cell_type": "code",
   "execution_count": 145,
   "metadata": {},
   "outputs": [
    {
     "data": {
      "text/plain": [
       "3"
      ]
     },
     "execution_count": 145,
     "metadata": {},
     "output_type": "execute_result"
    }
   ],
   "source": [
    "gcdRecur (24, 15)"
   ]
  },
  {
   "cell_type": "code",
   "execution_count": 146,
   "metadata": {},
   "outputs": [],
   "source": [
    "def fib(n):\n",
    "    \"\"\"\n",
    "    n: positive integer\n",
    "    \n",
    "    returns: fibonacci sequence value\n",
    "    \"\"\"\n",
    "    if n == 0 or n == 1:\n",
    "        return 1\n",
    "    else:\n",
    "        return fib(n-1) + fib (n-2)"
   ]
  },
  {
   "cell_type": "code",
   "execution_count": 147,
   "metadata": {},
   "outputs": [
    {
     "data": {
      "text/plain": [
       "5"
      ]
     },
     "execution_count": 147,
     "metadata": {},
     "output_type": "execute_result"
    }
   ],
   "source": [
    "fib(4)"
   ]
  },
  {
   "cell_type": "code",
   "execution_count": 152,
   "metadata": {},
   "outputs": [
    {
     "data": {
      "text/plain": [
       "13"
      ]
     },
     "execution_count": 152,
     "metadata": {},
     "output_type": "execute_result"
    }
   ],
   "source": [
    "fib(6)"
   ]
  },
  {
   "cell_type": "code",
   "execution_count": 202,
   "metadata": {},
   "outputs": [],
   "source": [
    "def isIn(char, aStr):\n",
    "    '''\n",
    "    char: a single character\n",
    "    aStr: an alphabetized string\n",
    "    \n",
    "    returns: True if char is in aStr; False otherwise\n",
    "    '''\n",
    "    \n",
    "    aStr = \" \" + aStr\n",
    "    \n",
    "    if char == aStr:\n",
    "        return True\n",
    "    \n",
    "    else:\n",
    "        while len(aStr) != 1:\n",
    "            if char == aStr[round(len(aStr)/2)]:\n",
    "                return True\n",
    "            \n",
    "            elif char > aStr[round(len(aStr)/2)]:\n",
    "                aStr = aStr[round(len(aStr)/2):]\n",
    "            else:\n",
    "                aStr = aStr[:round(len(aStr)/2)]\n",
    "                \n",
    "        return False\n",
    "    \n"
   ]
  },
  {
   "cell_type": "code",
   "execution_count": 206,
   "metadata": {},
   "outputs": [
    {
     "data": {
      "text/plain": [
       "True"
      ]
     },
     "execution_count": 206,
     "metadata": {},
     "output_type": "execute_result"
    }
   ],
   "source": [
    "str1 = \"abcdefghijklmnopq\"\n",
    "isIn(\"i\",str1)"
   ]
  },
  {
   "cell_type": "code",
   "execution_count": 238,
   "metadata": {},
   "outputs": [],
   "source": [
    "def isIn(char, aStr):\n",
    "    '''\n",
    "    char: a single character\n",
    "    aStr: an alphabetized string\n",
    "    \n",
    "    returns: True if char is in aStr; False otherwise\n",
    "    '''\n",
    "    \n",
    "    aStr = \" \" + aStr\n",
    "    \n",
    "    if char == aStr[round(len(aStr)/2)]:\n",
    "        return True\n",
    "    \n",
    "    else:\n",
    "        if len(aStr) == 2 or len(aStr) == 0:\n",
    "            return False\n",
    "        \n",
    "        elif char > aStr[round(len(aStr)/2)]:\n",
    "            aStr = aStr[round(len(aStr)/2):]\n",
    "            isIn(char, aStr)\n",
    "            return True\n",
    "            \n",
    "        else:\n",
    "            aStr = aStr[:round(len(aStr)/2)]\n",
    "            isIn(char, aStr)\n",
    "            return True\n",
    "      \n",
    "    \n"
   ]
  },
  {
   "cell_type": "code",
   "execution_count": 247,
   "metadata": {},
   "outputs": [
    {
     "data": {
      "text/plain": [
       "False"
      ]
     },
     "execution_count": 247,
     "metadata": {},
     "output_type": "execute_result"
    }
   ],
   "source": [
    "str1 = \"abcdefghijklmnopq\"\n",
    "isIn(\"z\",str1)"
   ]
  },
  {
   "cell_type": "code",
   "execution_count": 243,
   "metadata": {},
   "outputs": [],
   "source": [
    "def isIn(char, aStr):\n",
    "   '''\n",
    "   char: a single character\n",
    "   aStr: an alphabetized string\n",
    "   \n",
    "   returns: True if char is in aStr; False otherwise\n",
    "   '''\n",
    "   # Base case: If aStr is empty, we did not find the char.\n",
    "   if aStr == '':\n",
    "      return False\n",
    "\n",
    "   # Base case: if aStr is of length 1, just see if the chars are equal\n",
    "   if len(aStr) == 1:\n",
    "      return aStr == char\n",
    "\n",
    "   # Base case: See if the character in the middle of aStr equals the \n",
    "   #   test character \n",
    "   midIndex = len(aStr)//2\n",
    "   midChar = aStr[midIndex]\n",
    "   if char == midChar:\n",
    "      # We found the character!\n",
    "      return True\n",
    "   \n",
    "   # Recursive case: If the test character is smaller than the middle \n",
    "   #  character, recursively search on the first half of aStr\n",
    "   elif char < midChar:\n",
    "      return isIn(char, aStr[:midIndex])\n",
    "\n",
    "   # Otherwise the test character is larger than the middle character,\n",
    "   #  so recursively search on the last half of aStr\n",
    "   else:\n",
    "      return isIn(char, aStr[midIndex+1:])"
   ]
  },
  {
   "cell_type": "code",
   "execution_count": 166,
   "metadata": {},
   "outputs": [
    {
     "data": {
      "text/plain": [
       "True"
      ]
     },
     "execution_count": 166,
     "metadata": {},
     "output_type": "execute_result"
    }
   ],
   "source": [
    "b > a"
   ]
  },
  {
   "cell_type": "code",
   "execution_count": 252,
   "metadata": {},
   "outputs": [
    {
     "data": {
      "text/plain": [
       "8"
      ]
     },
     "execution_count": 252,
     "metadata": {},
     "output_type": "execute_result"
    }
   ],
   "source": [
    "len(str1)//2"
   ]
  },
  {
   "cell_type": "code",
   "execution_count": 260,
   "metadata": {},
   "outputs": [],
   "source": [
    "def polysum(n,s):\n",
    "    import math\n",
    "    perim = (n * s)**2\n",
    "    area = 0.25*n*s**2/(math.tan(math.pi/n))\n",
    "    return round(area + perim,4)"
   ]
  },
  {
   "cell_type": "code",
   "execution_count": 257,
   "metadata": {},
   "outputs": [
    {
     "data": {
      "text/plain": [
       "27.527669131935724"
      ]
     },
     "execution_count": 257,
     "metadata": {},
     "output_type": "execute_result"
    }
   ],
   "source": [
    "import math\n",
    "n = 5\n",
    "s=4\n",
    "pi = 3.14159\n",
    "area = 0.25*n*s**2/(math.tan(pi/n))\n",
    "area"
   ]
  },
  {
   "cell_type": "code",
   "execution_count": 263,
   "metadata": {},
   "outputs": [
    {
     "data": {
      "text/plain": [
       "4691.11"
      ]
     },
     "execution_count": 263,
     "metadata": {},
     "output_type": "execute_result"
    }
   ],
   "source": [
    "balance = 5000\n",
    "annualInterestRate = 0.18\n",
    "monthlyPaymentRate = 0.02\n",
    "n = 12\n",
    "monthlyInterestRate = annualInterestRate/12\n",
    "\n",
    "for i in range(0,n):\n",
    "    minimumMonthlyPayment = balance * monthlyPaymentRate\n",
    "    monthlyUnpaidBalance = balance - minimumMonthlyPayment\n",
    "    balance = monthlyUnpaidBalance + monthlyUnpaidBalance*monthlyInterestRate\n",
    "\n",
    "round(balance,2)\n",
    "\n"
   ]
  },
  {
   "cell_type": "code",
   "execution_count": 280,
   "metadata": {},
   "outputs": [
    {
     "data": {
      "text/plain": [
       "340.0"
      ]
     },
     "execution_count": 280,
     "metadata": {},
     "output_type": "execute_result"
    }
   ],
   "source": [
    "balance = 4029\n",
    "annualInterestRate = 0.04\n",
    "n = 12\n",
    "monthlyInterestRate = annualInterestRate/12\n",
    "\n",
    "minimumMonthlyPayment = (balance * monthlyInterestRate) / (1 - (1 + monthlyInterestRate)**(-n))\n",
    "\n",
    "for i in range(0,n):\n",
    "    monthlyUnpaidBalance = balance - minimumMonthlyPayment\n",
    "    balance = monthlyUnpaidBalance + monthlyUnpaidBalance*monthlyInterestRate\n",
    "\n",
    "if balance > 0:\n",
    "    minimumMonthlyPayment = minimumMonthlyPayment + 10\n",
    "   \n",
    "print(round(minimumMonthlyPayment,-1))"
   ]
  },
  {
   "cell_type": "code",
   "execution_count": 1,
   "metadata": {},
   "outputs": [],
   "source": [
    "#Week 3 Lecture 5\n",
    "\n",
    "s = ('I', 'am', 'a', 'test', 'tuple')"
   ]
  },
  {
   "cell_type": "code",
   "execution_count": 8,
   "metadata": {},
   "outputs": [
    {
     "name": "stdout",
     "output_type": "stream",
     "text": [
      "('I', 'a', 'tuple')\n"
     ]
    }
   ],
   "source": [
    "atup = s[::2]\n",
    "\n",
    "print(atup)"
   ]
  },
  {
   "cell_type": "code",
   "execution_count": null,
   "metadata": {},
   "outputs": [],
   "source": []
  }
 ],
 "metadata": {
  "kernelspec": {
   "display_name": "Python 3",
   "language": "python",
   "name": "python3"
  },
  "language_info": {
   "codemirror_mode": {
    "name": "ipython",
    "version": 3
   },
   "file_extension": ".py",
   "mimetype": "text/x-python",
   "name": "python",
   "nbconvert_exporter": "python",
   "pygments_lexer": "ipython3",
   "version": "3.6.4"
  }
 },
 "nbformat": 4,
 "nbformat_minor": 2
}
